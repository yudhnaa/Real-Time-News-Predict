{
 "cells": [
  {
   "cell_type": "code",
   "execution_count": 1,
   "metadata": {
    "colab": {
     "base_uri": "https://localhost:8080/"
    },
    "id": "fCSZglOfOYyg",
    "outputId": "4901d6c4-9c68-4ba4-a765-b7124379aaa8"
   },
   "outputs": [
    {
     "name": "stdout",
     "output_type": "stream",
     "text": [
      "LICENSE                            \u001b[34mdataset\u001b[m\u001b[m/\n",
      "News_sentiment_analysis_new.ipynb  submission3.csv\n",
      "README.md                          \u001b[34mtrained-models\u001b[m\u001b[m/\n"
     ]
    }
   ],
   "source": [
    "%ls"
   ]
  },
  {
   "cell_type": "markdown",
   "metadata": {
    "colab": {
     "base_uri": "https://localhost:8080/"
    },
    "id": "h1UgWh2AOZOl",
    "outputId": "51e6e595-34b8-4d91-bc2f-f1497d851976"
   },
   "source": [
    "%cd drive/My\\ Drive/SIC\\ -\\ BigData/8.\\ Project/"
   ]
  },
  {
   "cell_type": "code",
   "execution_count": 1,
   "metadata": {
    "id": "AlzZ2oJRug0e"
   },
   "outputs": [],
   "source": [
    "# import matplotlib.pyplot as plt\n",
    "# import scipy.stats as stats\n",
    "#from sklearn.externals import joblib\n",
    "# import joblib\n",
    "# import nltk\n",
    "# nltk.download('stopwords')\n",
    "# print('Downloaded Stopwords')\n",
    "# from nltk.corpus import stopwords\n",
    "# import re\n",
    "# from sklearn.feature_extraction.text import CountVectorizer\n",
    "# from sklearn.feature_extraction.text import TfidfTransformer\n",
    "# from sklearn.model_selection import GridSearchCV\n",
    "# from sklearn.naive_bayes import MultinomialNB\n",
    "# from sklearn.feature_extraction.text import HashingVectorizer\n",
    "import pandas as pd\n",
    "import numpy as np\n",
    "import seaborn as sns\n",
    "import spacy\n",
    "from xgboost import XGBRegressor\n",
    "import xgboost as xgb\n",
    "from sklearn.pipeline import Pipeline\n",
    "import seaborn as sns\n",
    "from sklearn.multioutput import MultiOutputRegressor\n",
    "from sklearn.ensemble import RandomForestRegressor\n",
    "from spacy.lang.en import English\n",
    "from spacy.lang.en.stop_words import STOP_WORDS\n",
    "stop_words = STOP_WORDS\n",
    "from sklearn.base import TransformerMixin\n",
    "from sklearn.feature_extraction.text import TfidfVectorizer\n",
    "import string\n",
    "punctuations = string.punctuation\n",
    "from sklearn.model_selection import train_test_split\n",
    "from sklearn.metrics import mean_squared_error, mean_absolute_error, r2_score"
   ]
  },
  {
   "cell_type": "code",
   "execution_count": 3,
   "metadata": {
    "id": "gXN4jSqLug6-"
   },
   "outputs": [],
   "source": [
    "#Import dataset\n",
    "train = pd.read_csv('dataset/train_file.csv')\n",
    "test = pd.read_csv('dataset/test_file.csv')"
   ]
  },
  {
   "cell_type": "code",
   "execution_count": 4,
   "metadata": {
    "colab": {
     "base_uri": "https://localhost:8080/",
     "height": 293
    },
    "id": "llh9avH_uhBZ",
    "outputId": "55e1305f-be1e-4c0f-dcd4-472272d106e0"
   },
   "outputs": [
    {
     "data": {
      "text/html": [
       "<div>\n",
       "<style scoped>\n",
       "    .dataframe tbody tr th:only-of-type {\n",
       "        vertical-align: middle;\n",
       "    }\n",
       "\n",
       "    .dataframe tbody tr th {\n",
       "        vertical-align: top;\n",
       "    }\n",
       "\n",
       "    .dataframe thead th {\n",
       "        text-align: right;\n",
       "    }\n",
       "</style>\n",
       "<table border=\"1\" class=\"dataframe\">\n",
       "  <thead>\n",
       "    <tr style=\"text-align: right;\">\n",
       "      <th></th>\n",
       "      <th>IDLink</th>\n",
       "      <th>Title</th>\n",
       "      <th>Headline</th>\n",
       "      <th>Source</th>\n",
       "      <th>Topic</th>\n",
       "      <th>PublishDate</th>\n",
       "      <th>Facebook</th>\n",
       "      <th>GooglePlus</th>\n",
       "      <th>LinkedIn</th>\n",
       "      <th>SentimentTitle</th>\n",
       "      <th>SentimentHeadline</th>\n",
       "    </tr>\n",
       "  </thead>\n",
       "  <tbody>\n",
       "    <tr>\n",
       "      <th>0</th>\n",
       "      <td>Tr3CMgRv1N</td>\n",
       "      <td>Obama Lays Wreath at Arlington National Cemetery</td>\n",
       "      <td>Obama Lays Wreath at Arlington National Cemete...</td>\n",
       "      <td>USA TODAY</td>\n",
       "      <td>obama</td>\n",
       "      <td>2002-04-02 00:00:00</td>\n",
       "      <td>-1</td>\n",
       "      <td>-1</td>\n",
       "      <td>-1</td>\n",
       "      <td>0.000000</td>\n",
       "      <td>-0.053300</td>\n",
       "    </tr>\n",
       "    <tr>\n",
       "      <th>1</th>\n",
       "      <td>Wc81vGp8qZ</td>\n",
       "      <td>A Look at the Health of the Chinese Economy</td>\n",
       "      <td>Tim Haywood, investment director business-unit...</td>\n",
       "      <td>Bloomberg</td>\n",
       "      <td>economy</td>\n",
       "      <td>2008-09-20 00:00:00</td>\n",
       "      <td>-1</td>\n",
       "      <td>-1</td>\n",
       "      <td>-1</td>\n",
       "      <td>0.208333</td>\n",
       "      <td>-0.156386</td>\n",
       "    </tr>\n",
       "    <tr>\n",
       "      <th>2</th>\n",
       "      <td>zNGH03CrZH</td>\n",
       "      <td>Nouriel Roubini: Global Economy Not Back to 2008</td>\n",
       "      <td>Nouriel Roubini, NYU professor and chairman at...</td>\n",
       "      <td>Bloomberg</td>\n",
       "      <td>economy</td>\n",
       "      <td>2012-01-28 00:00:00</td>\n",
       "      <td>-1</td>\n",
       "      <td>-1</td>\n",
       "      <td>-1</td>\n",
       "      <td>-0.425210</td>\n",
       "      <td>0.139754</td>\n",
       "    </tr>\n",
       "    <tr>\n",
       "      <th>3</th>\n",
       "      <td>3sM1H0W8ts</td>\n",
       "      <td>Finland GDP Expands In Q4</td>\n",
       "      <td>Finland's economy expanded marginally in the t...</td>\n",
       "      <td>RTT News</td>\n",
       "      <td>economy</td>\n",
       "      <td>2015-03-01 00:06:00</td>\n",
       "      <td>-1</td>\n",
       "      <td>-1</td>\n",
       "      <td>-1</td>\n",
       "      <td>0.000000</td>\n",
       "      <td>0.026064</td>\n",
       "    </tr>\n",
       "    <tr>\n",
       "      <th>4</th>\n",
       "      <td>wUbnxgvqaZ</td>\n",
       "      <td>Tourism, govt spending buoys Thai economy in J...</td>\n",
       "      <td>Tourism and public spending continued to boost...</td>\n",
       "      <td>The Nation - Thailand&amp;#39;s English news</td>\n",
       "      <td>economy</td>\n",
       "      <td>2015-03-01 00:11:00</td>\n",
       "      <td>-1</td>\n",
       "      <td>-1</td>\n",
       "      <td>-1</td>\n",
       "      <td>0.000000</td>\n",
       "      <td>0.141084</td>\n",
       "    </tr>\n",
       "  </tbody>\n",
       "</table>\n",
       "</div>"
      ],
      "text/plain": [
       "       IDLink                                              Title  \\\n",
       "0  Tr3CMgRv1N   Obama Lays Wreath at Arlington National Cemetery   \n",
       "1  Wc81vGp8qZ        A Look at the Health of the Chinese Economy   \n",
       "2  zNGH03CrZH   Nouriel Roubini: Global Economy Not Back to 2008   \n",
       "3  3sM1H0W8ts                          Finland GDP Expands In Q4   \n",
       "4  wUbnxgvqaZ  Tourism, govt spending buoys Thai economy in J...   \n",
       "\n",
       "                                            Headline  \\\n",
       "0  Obama Lays Wreath at Arlington National Cemete...   \n",
       "1  Tim Haywood, investment director business-unit...   \n",
       "2  Nouriel Roubini, NYU professor and chairman at...   \n",
       "3  Finland's economy expanded marginally in the t...   \n",
       "4  Tourism and public spending continued to boost...   \n",
       "\n",
       "                                     Source    Topic          PublishDate  \\\n",
       "0                                 USA TODAY    obama  2002-04-02 00:00:00   \n",
       "1                                 Bloomberg  economy  2008-09-20 00:00:00   \n",
       "2                                 Bloomberg  economy  2012-01-28 00:00:00   \n",
       "3                                  RTT News  economy  2015-03-01 00:06:00   \n",
       "4  The Nation - Thailand&#39;s English news  economy  2015-03-01 00:11:00   \n",
       "\n",
       "   Facebook  GooglePlus  LinkedIn  SentimentTitle  SentimentHeadline  \n",
       "0        -1          -1        -1        0.000000          -0.053300  \n",
       "1        -1          -1        -1        0.208333          -0.156386  \n",
       "2        -1          -1        -1       -0.425210           0.139754  \n",
       "3        -1          -1        -1        0.000000           0.026064  \n",
       "4        -1          -1        -1        0.000000           0.141084  "
      ]
     },
     "execution_count": 4,
     "metadata": {},
     "output_type": "execute_result"
    }
   ],
   "source": [
    "train.head()\n",
    "#train.drop([\"IDLink\"], inplace=True, axis=1)"
   ]
  },
  {
   "cell_type": "code",
   "execution_count": 5,
   "metadata": {
    "colab": {
     "base_uri": "https://localhost:8080/",
     "height": 35
    },
    "id": "hnenNK6Puhqy",
    "outputId": "fa8b7fc1-6b45-4b81-88da-0f2b8d0b5f2f"
   },
   "outputs": [
    {
     "data": {
      "text/plain": [
       "'Obama Lays Wreath at Arlington National Cemetery. President Barack Obama has laid a wreath at the Tomb of the Unknowns to honor'"
      ]
     },
     "execution_count": 5,
     "metadata": {},
     "output_type": "execute_result"
    }
   ],
   "source": [
    "train.loc[0,'Headline']"
   ]
  },
  {
   "cell_type": "code",
   "execution_count": 6,
   "metadata": {
    "colab": {
     "base_uri": "https://localhost:8080/",
     "height": 35
    },
    "id": "VRdEGXHquhxV",
    "outputId": "611494b4-83b2-4d8c-9d2a-7ba43c563891"
   },
   "outputs": [
    {
     "data": {
      "text/plain": [
       "'Obama Lays Wreath at Arlington National Cemetery'"
      ]
     },
     "execution_count": 6,
     "metadata": {},
     "output_type": "execute_result"
    }
   ],
   "source": [
    "train.loc[0,'Title']"
   ]
  },
  {
   "cell_type": "code",
   "execution_count": 7,
   "metadata": {
    "colab": {
     "base_uri": "https://localhost:8080/",
     "height": 206
    },
    "id": "t1lSImqXuh3v",
    "outputId": "7f32d03c-ef6a-4335-99ed-8e015d59f253"
   },
   "outputs": [
    {
     "data": {
      "text/html": [
       "<div>\n",
       "<style scoped>\n",
       "    .dataframe tbody tr th:only-of-type {\n",
       "        vertical-align: middle;\n",
       "    }\n",
       "\n",
       "    .dataframe tbody tr th {\n",
       "        vertical-align: top;\n",
       "    }\n",
       "\n",
       "    .dataframe thead th {\n",
       "        text-align: right;\n",
       "    }\n",
       "</style>\n",
       "<table border=\"1\" class=\"dataframe\">\n",
       "  <thead>\n",
       "    <tr style=\"text-align: right;\">\n",
       "      <th></th>\n",
       "      <th>IDLink</th>\n",
       "      <th>Title</th>\n",
       "      <th>Headline</th>\n",
       "      <th>Source</th>\n",
       "      <th>Topic</th>\n",
       "      <th>PublishDate</th>\n",
       "      <th>Facebook</th>\n",
       "      <th>GooglePlus</th>\n",
       "      <th>LinkedIn</th>\n",
       "    </tr>\n",
       "  </thead>\n",
       "  <tbody>\n",
       "    <tr>\n",
       "      <th>0</th>\n",
       "      <td>tFrqIR6Chj</td>\n",
       "      <td>Sliding Economy: FG fights back with N3trn TSA...</td>\n",
       "      <td>With the 2016 budget now passed by the Nationa...</td>\n",
       "      <td>BusinessDay</td>\n",
       "      <td>economy</td>\n",
       "      <td>2016-03-29 01:41:12</td>\n",
       "      <td>0</td>\n",
       "      <td>0</td>\n",
       "      <td>1</td>\n",
       "    </tr>\n",
       "    <tr>\n",
       "      <th>1</th>\n",
       "      <td>DVAaGErjlF</td>\n",
       "      <td>Microsoft shows how HoloLens can bring distant...</td>\n",
       "      <td>A recent Microsoft Research video shows how th...</td>\n",
       "      <td>Daily Mail</td>\n",
       "      <td>microsoft</td>\n",
       "      <td>2016-03-29 01:41:27</td>\n",
       "      <td>121</td>\n",
       "      <td>2</td>\n",
       "      <td>13</td>\n",
       "    </tr>\n",
       "    <tr>\n",
       "      <th>2</th>\n",
       "      <td>OT9UIZm5M2</td>\n",
       "      <td>Microsoft’s Twitter Robot Praises Hitler, Trum...</td>\n",
       "      <td>* Microsoft teamed with Bing to create TayTwee...</td>\n",
       "      <td>EURweb</td>\n",
       "      <td>microsoft</td>\n",
       "      <td>2016-03-29 01:47:00</td>\n",
       "      <td>12</td>\n",
       "      <td>1</td>\n",
       "      <td>0</td>\n",
       "    </tr>\n",
       "    <tr>\n",
       "      <th>3</th>\n",
       "      <td>lflGp3q2Fj</td>\n",
       "      <td>Flood of Central Bank Moves Can't Get World Ec...</td>\n",
       "      <td>Central bankers have managed to steer the worl...</td>\n",
       "      <td>Bloomberg via Yahoo! Finance</td>\n",
       "      <td>economy</td>\n",
       "      <td>2016-03-29 02:00:00</td>\n",
       "      <td>0</td>\n",
       "      <td>0</td>\n",
       "      <td>3</td>\n",
       "    </tr>\n",
       "    <tr>\n",
       "      <th>4</th>\n",
       "      <td>zDYG0SoovZ</td>\n",
       "      <td>USD/JPY: bears lining up on mixed U.S. economy...</td>\n",
       "      <td>However, this streak of seven-day gains might ...</td>\n",
       "      <td>FXStreet</td>\n",
       "      <td>economy</td>\n",
       "      <td>2016-03-29 02:01:07</td>\n",
       "      <td>3</td>\n",
       "      <td>0</td>\n",
       "      <td>0</td>\n",
       "    </tr>\n",
       "  </tbody>\n",
       "</table>\n",
       "</div>"
      ],
      "text/plain": [
       "       IDLink                                              Title  \\\n",
       "0  tFrqIR6Chj  Sliding Economy: FG fights back with N3trn TSA...   \n",
       "1  DVAaGErjlF  Microsoft shows how HoloLens can bring distant...   \n",
       "2  OT9UIZm5M2  Microsoft’s Twitter Robot Praises Hitler, Trum...   \n",
       "3  lflGp3q2Fj  Flood of Central Bank Moves Can't Get World Ec...   \n",
       "4  zDYG0SoovZ  USD/JPY: bears lining up on mixed U.S. economy...   \n",
       "\n",
       "                                            Headline  \\\n",
       "0  With the 2016 budget now passed by the Nationa...   \n",
       "1  A recent Microsoft Research video shows how th...   \n",
       "2  * Microsoft teamed with Bing to create TayTwee...   \n",
       "3  Central bankers have managed to steer the worl...   \n",
       "4  However, this streak of seven-day gains might ...   \n",
       "\n",
       "                         Source      Topic          PublishDate  Facebook  \\\n",
       "0                   BusinessDay    economy  2016-03-29 01:41:12         0   \n",
       "1                    Daily Mail  microsoft  2016-03-29 01:41:27       121   \n",
       "2                        EURweb  microsoft  2016-03-29 01:47:00        12   \n",
       "3  Bloomberg via Yahoo! Finance    economy  2016-03-29 02:00:00         0   \n",
       "4                      FXStreet    economy  2016-03-29 02:01:07         3   \n",
       "\n",
       "   GooglePlus  LinkedIn  \n",
       "0           0         1  \n",
       "1           2        13  \n",
       "2           1         0  \n",
       "3           0         3  \n",
       "4           0         0  "
      ]
     },
     "execution_count": 7,
     "metadata": {},
     "output_type": "execute_result"
    }
   ],
   "source": [
    "test.head()\n",
    "#test.drop([\"IDLink\"], inplace=True, axis=1)"
   ]
  },
  {
   "cell_type": "code",
   "execution_count": 8,
   "metadata": {
    "colab": {
     "base_uri": "https://localhost:8080/",
     "height": 394
    },
    "id": "2_OA0oGeuh9X",
    "outputId": "aaa3f278-e6f4-4b8c-d97a-47d86f54b52b"
   },
   "outputs": [
    {
     "data": {
      "text/html": [
       "<div>\n",
       "<style scoped>\n",
       "    .dataframe tbody tr th:only-of-type {\n",
       "        vertical-align: middle;\n",
       "    }\n",
       "\n",
       "    .dataframe tbody tr th {\n",
       "        vertical-align: top;\n",
       "    }\n",
       "\n",
       "    .dataframe thead th {\n",
       "        text-align: right;\n",
       "    }\n",
       "</style>\n",
       "<table border=\"1\" class=\"dataframe\">\n",
       "  <thead>\n",
       "    <tr style=\"text-align: right;\">\n",
       "      <th></th>\n",
       "      <th>index</th>\n",
       "      <th>0</th>\n",
       "    </tr>\n",
       "  </thead>\n",
       "  <tbody>\n",
       "    <tr>\n",
       "      <th>0</th>\n",
       "      <td>IDLink</td>\n",
       "      <td>0</td>\n",
       "    </tr>\n",
       "    <tr>\n",
       "      <th>1</th>\n",
       "      <td>Title</td>\n",
       "      <td>0</td>\n",
       "    </tr>\n",
       "    <tr>\n",
       "      <th>2</th>\n",
       "      <td>Headline</td>\n",
       "      <td>0</td>\n",
       "    </tr>\n",
       "    <tr>\n",
       "      <th>3</th>\n",
       "      <td>Source</td>\n",
       "      <td>175</td>\n",
       "    </tr>\n",
       "    <tr>\n",
       "      <th>4</th>\n",
       "      <td>Topic</td>\n",
       "      <td>0</td>\n",
       "    </tr>\n",
       "    <tr>\n",
       "      <th>5</th>\n",
       "      <td>PublishDate</td>\n",
       "      <td>0</td>\n",
       "    </tr>\n",
       "    <tr>\n",
       "      <th>6</th>\n",
       "      <td>Facebook</td>\n",
       "      <td>0</td>\n",
       "    </tr>\n",
       "    <tr>\n",
       "      <th>7</th>\n",
       "      <td>GooglePlus</td>\n",
       "      <td>0</td>\n",
       "    </tr>\n",
       "    <tr>\n",
       "      <th>8</th>\n",
       "      <td>LinkedIn</td>\n",
       "      <td>0</td>\n",
       "    </tr>\n",
       "    <tr>\n",
       "      <th>9</th>\n",
       "      <td>SentimentTitle</td>\n",
       "      <td>0</td>\n",
       "    </tr>\n",
       "    <tr>\n",
       "      <th>10</th>\n",
       "      <td>SentimentHeadline</td>\n",
       "      <td>0</td>\n",
       "    </tr>\n",
       "  </tbody>\n",
       "</table>\n",
       "</div>"
      ],
      "text/plain": [
       "                index    0\n",
       "0              IDLink    0\n",
       "1               Title    0\n",
       "2            Headline    0\n",
       "3              Source  175\n",
       "4               Topic    0\n",
       "5         PublishDate    0\n",
       "6            Facebook    0\n",
       "7          GooglePlus    0\n",
       "8            LinkedIn    0\n",
       "9      SentimentTitle    0\n",
       "10  SentimentHeadline    0"
      ]
     },
     "execution_count": 8,
     "metadata": {},
     "output_type": "execute_result"
    }
   ],
   "source": [
    "#Đếm NaN Ở Các Cột\n",
    "missing_val = pd.DataFrame(train.isnull().sum())\n",
    "missing_val = missing_val.reset_index()\n",
    "missing_val"
   ]
  },
  {
   "cell_type": "code",
   "execution_count": 9,
   "metadata": {
    "colab": {
     "base_uri": "https://localhost:8080/",
     "height": 597
    },
    "id": "lX86s1HZuiDZ",
    "outputId": "aa44ab8b-4316-4570-d00c-de45de41c5fe"
   },
   "outputs": [
    {
     "data": {
      "text/html": [
       "<div>\n",
       "<style scoped>\n",
       "    .dataframe tbody tr th:only-of-type {\n",
       "        vertical-align: middle;\n",
       "    }\n",
       "\n",
       "    .dataframe tbody tr th {\n",
       "        vertical-align: top;\n",
       "    }\n",
       "\n",
       "    .dataframe thead th {\n",
       "        text-align: right;\n",
       "    }\n",
       "</style>\n",
       "<table border=\"1\" class=\"dataframe\">\n",
       "  <thead>\n",
       "    <tr style=\"text-align: right;\">\n",
       "      <th></th>\n",
       "      <th>IDLink</th>\n",
       "      <th>Title</th>\n",
       "      <th>Headline</th>\n",
       "      <th>Source</th>\n",
       "      <th>Topic</th>\n",
       "      <th>PublishDate</th>\n",
       "      <th>Facebook</th>\n",
       "      <th>GooglePlus</th>\n",
       "      <th>LinkedIn</th>\n",
       "      <th>SentimentTitle</th>\n",
       "      <th>SentimentHeadline</th>\n",
       "    </tr>\n",
       "  </thead>\n",
       "  <tbody>\n",
       "    <tr>\n",
       "      <th>6</th>\n",
       "      <td>lKg2pImhCl</td>\n",
       "      <td>Monday, 29 Feb 2016</td>\n",
       "      <td>RAMALLAH, February 25, 2016 (WAFA) - Palestine...</td>\n",
       "      <td>NaN</td>\n",
       "      <td>palestine</td>\n",
       "      <td>2016-02-28 14:03:00</td>\n",
       "      <td>0</td>\n",
       "      <td>0</td>\n",
       "      <td>0</td>\n",
       "      <td>0.000000</td>\n",
       "      <td>-0.005906</td>\n",
       "    </tr>\n",
       "    <tr>\n",
       "      <th>56</th>\n",
       "      <td>ZOKue2cqfO</td>\n",
       "      <td>Monday, 29 Feb 2016</td>\n",
       "      <td>RAMALLAH, February 29, 2016 (WAFA) - The Gover...</td>\n",
       "      <td>NaN</td>\n",
       "      <td>palestine</td>\n",
       "      <td>2016-03-01 09:29:00</td>\n",
       "      <td>0</td>\n",
       "      <td>0</td>\n",
       "      <td>0</td>\n",
       "      <td>0.000000</td>\n",
       "      <td>0.048546</td>\n",
       "    </tr>\n",
       "    <tr>\n",
       "      <th>111</th>\n",
       "      <td>JXfRvxs0R6</td>\n",
       "      <td>Tuesday, 1 Mar 2016</td>\n",
       "      <td>RAMALLAH, February 29, 2016 (WAFA) - The Gover...</td>\n",
       "      <td>NaN</td>\n",
       "      <td>palestine</td>\n",
       "      <td>2016-03-01 00:15:00</td>\n",
       "      <td>0</td>\n",
       "      <td>0</td>\n",
       "      <td>0</td>\n",
       "      <td>-0.243068</td>\n",
       "      <td>0.048546</td>\n",
       "    </tr>\n",
       "    <tr>\n",
       "      <th>350</th>\n",
       "      <td>A1YOXDsuOO</td>\n",
       "      <td>Human rights situation in Palestinian territor...</td>\n",
       "      <td>In a special meeting convened by the UN Human ...</td>\n",
       "      <td>NaN</td>\n",
       "      <td>palestine</td>\n",
       "      <td>2015-10-28 17:24:00</td>\n",
       "      <td>-1</td>\n",
       "      <td>-1</td>\n",
       "      <td>-1</td>\n",
       "      <td>-0.228299</td>\n",
       "      <td>-0.124931</td>\n",
       "    </tr>\n",
       "    <tr>\n",
       "      <th>409</th>\n",
       "      <td>fO2mYsUg5P</td>\n",
       "      <td>Japan Contributes $5.73M To UNRWA’s Food Assis...</td>\n",
       "      <td>JERUSALEM, October 31, 2015 (WAFA) – The Japan...</td>\n",
       "      <td>NaN</td>\n",
       "      <td>palestine</td>\n",
       "      <td>2015-10-31 04:30:00</td>\n",
       "      <td>-1</td>\n",
       "      <td>-1</td>\n",
       "      <td>-1</td>\n",
       "      <td>0.166667</td>\n",
       "      <td>-0.042878</td>\n",
       "    </tr>\n",
       "    <tr>\n",
       "      <th>...</th>\n",
       "      <td>...</td>\n",
       "      <td>...</td>\n",
       "      <td>...</td>\n",
       "      <td>...</td>\n",
       "      <td>...</td>\n",
       "      <td>...</td>\n",
       "      <td>...</td>\n",
       "      <td>...</td>\n",
       "      <td>...</td>\n",
       "      <td>...</td>\n",
       "      <td>...</td>\n",
       "    </tr>\n",
       "    <tr>\n",
       "      <th>55482</th>\n",
       "      <td>FJZonPtvqe</td>\n",
       "      <td>Monday, 28 Mar 2016</td>\n",
       "      <td>JERICHO, March 28, 2016 (WAFA) – Secretary Gen...</td>\n",
       "      <td>NaN</td>\n",
       "      <td>palestine</td>\n",
       "      <td>2016-03-28 04:35:00</td>\n",
       "      <td>0</td>\n",
       "      <td>0</td>\n",
       "      <td>0</td>\n",
       "      <td>-0.243068</td>\n",
       "      <td>0.068465</td>\n",
       "    </tr>\n",
       "    <tr>\n",
       "      <th>55483</th>\n",
       "      <td>NanKfuNzsO</td>\n",
       "      <td>Saturday, 16 Apr 2016</td>\n",
       "      <td>JERICHO, March 28, 2016 (WAFA) – Secretary Gen...</td>\n",
       "      <td>NaN</td>\n",
       "      <td>palestine</td>\n",
       "      <td>2016-03-28 04:36:00</td>\n",
       "      <td>-1</td>\n",
       "      <td>-1</td>\n",
       "      <td>-1</td>\n",
       "      <td>0.000000</td>\n",
       "      <td>0.068465</td>\n",
       "    </tr>\n",
       "    <tr>\n",
       "      <th>55486</th>\n",
       "      <td>ovFBb4XFt4</td>\n",
       "      <td>Sunday, 17 Apr 2016</td>\n",
       "      <td>JERICHO, March 28, 2016 (WAFA) – Secretary Gen...</td>\n",
       "      <td>NaN</td>\n",
       "      <td>palestine</td>\n",
       "      <td>2016-03-28 05:07:00</td>\n",
       "      <td>-1</td>\n",
       "      <td>-1</td>\n",
       "      <td>-1</td>\n",
       "      <td>0.000000</td>\n",
       "      <td>0.068465</td>\n",
       "    </tr>\n",
       "    <tr>\n",
       "      <th>55620</th>\n",
       "      <td>H2PlLqiX9U</td>\n",
       "      <td>Tuesday, 29 Mar 2016</td>\n",
       "      <td>JERICHO, March 28, 2016 (WAFA) – Secretary Gen...</td>\n",
       "      <td>NaN</td>\n",
       "      <td>palestine</td>\n",
       "      <td>2016-03-28 14:06:00</td>\n",
       "      <td>0</td>\n",
       "      <td>0</td>\n",
       "      <td>0</td>\n",
       "      <td>-0.243068</td>\n",
       "      <td>0.068465</td>\n",
       "    </tr>\n",
       "    <tr>\n",
       "      <th>55726</th>\n",
       "      <td>WRLC4C8Nvj</td>\n",
       "      <td>Monday, 18 Apr 2016</td>\n",
       "      <td>JERICHO, March 28, 2016 (WAFA) – Secretary Gen...</td>\n",
       "      <td>NaN</td>\n",
       "      <td>palestine</td>\n",
       "      <td>2016-03-28 17:35:00</td>\n",
       "      <td>-1</td>\n",
       "      <td>-1</td>\n",
       "      <td>-1</td>\n",
       "      <td>0.000000</td>\n",
       "      <td>0.068465</td>\n",
       "    </tr>\n",
       "  </tbody>\n",
       "</table>\n",
       "<p>175 rows × 11 columns</p>\n",
       "</div>"
      ],
      "text/plain": [
       "           IDLink                                              Title  \\\n",
       "6      lKg2pImhCl                                Monday, 29 Feb 2016   \n",
       "56     ZOKue2cqfO                                Monday, 29 Feb 2016   \n",
       "111    JXfRvxs0R6                                Tuesday, 1 Mar 2016   \n",
       "350    A1YOXDsuOO  Human rights situation in Palestinian territor...   \n",
       "409    fO2mYsUg5P  Japan Contributes $5.73M To UNRWA’s Food Assis...   \n",
       "...           ...                                                ...   \n",
       "55482  FJZonPtvqe                                Monday, 28 Mar 2016   \n",
       "55483  NanKfuNzsO                              Saturday, 16 Apr 2016   \n",
       "55486  ovFBb4XFt4                                Sunday, 17 Apr 2016   \n",
       "55620  H2PlLqiX9U                               Tuesday, 29 Mar 2016   \n",
       "55726  WRLC4C8Nvj                                Monday, 18 Apr 2016   \n",
       "\n",
       "                                                Headline Source      Topic  \\\n",
       "6      RAMALLAH, February 25, 2016 (WAFA) - Palestine...    NaN  palestine   \n",
       "56     RAMALLAH, February 29, 2016 (WAFA) - The Gover...    NaN  palestine   \n",
       "111    RAMALLAH, February 29, 2016 (WAFA) - The Gover...    NaN  palestine   \n",
       "350    In a special meeting convened by the UN Human ...    NaN  palestine   \n",
       "409    JERUSALEM, October 31, 2015 (WAFA) – The Japan...    NaN  palestine   \n",
       "...                                                  ...    ...        ...   \n",
       "55482  JERICHO, March 28, 2016 (WAFA) – Secretary Gen...    NaN  palestine   \n",
       "55483  JERICHO, March 28, 2016 (WAFA) – Secretary Gen...    NaN  palestine   \n",
       "55486  JERICHO, March 28, 2016 (WAFA) – Secretary Gen...    NaN  palestine   \n",
       "55620  JERICHO, March 28, 2016 (WAFA) – Secretary Gen...    NaN  palestine   \n",
       "55726  JERICHO, March 28, 2016 (WAFA) – Secretary Gen...    NaN  palestine   \n",
       "\n",
       "               PublishDate  Facebook  GooglePlus  LinkedIn  SentimentTitle  \\\n",
       "6      2016-02-28 14:03:00         0           0         0        0.000000   \n",
       "56     2016-03-01 09:29:00         0           0         0        0.000000   \n",
       "111    2016-03-01 00:15:00         0           0         0       -0.243068   \n",
       "350    2015-10-28 17:24:00        -1          -1        -1       -0.228299   \n",
       "409    2015-10-31 04:30:00        -1          -1        -1        0.166667   \n",
       "...                    ...       ...         ...       ...             ...   \n",
       "55482  2016-03-28 04:35:00         0           0         0       -0.243068   \n",
       "55483  2016-03-28 04:36:00        -1          -1        -1        0.000000   \n",
       "55486  2016-03-28 05:07:00        -1          -1        -1        0.000000   \n",
       "55620  2016-03-28 14:06:00         0           0         0       -0.243068   \n",
       "55726  2016-03-28 17:35:00        -1          -1        -1        0.000000   \n",
       "\n",
       "       SentimentHeadline  \n",
       "6              -0.005906  \n",
       "56              0.048546  \n",
       "111             0.048546  \n",
       "350            -0.124931  \n",
       "409            -0.042878  \n",
       "...                  ...  \n",
       "55482           0.068465  \n",
       "55483           0.068465  \n",
       "55486           0.068465  \n",
       "55620           0.068465  \n",
       "55726           0.068465  \n",
       "\n",
       "[175 rows x 11 columns]"
      ]
     },
     "execution_count": 9,
     "metadata": {},
     "output_type": "execute_result"
    }
   ],
   "source": [
    "train[train['Source'].isna()]"
   ]
  },
  {
   "cell_type": "code",
   "execution_count": 10,
   "metadata": {
    "id": "4V19Y5JYuiI8"
   },
   "outputs": [],
   "source": [
    "#train.dropna(inplace=True)"
   ]
  },
  {
   "cell_type": "code",
   "execution_count": 11,
   "metadata": {
    "id": "Jk81-CQ9Pr8i"
   },
   "outputs": [
    {
     "data": {
      "text/html": [
       "<div>\n",
       "<style scoped>\n",
       "    .dataframe tbody tr th:only-of-type {\n",
       "        vertical-align: middle;\n",
       "    }\n",
       "\n",
       "    .dataframe tbody tr th {\n",
       "        vertical-align: top;\n",
       "    }\n",
       "\n",
       "    .dataframe thead th {\n",
       "        text-align: right;\n",
       "    }\n",
       "</style>\n",
       "<table border=\"1\" class=\"dataframe\">\n",
       "  <thead>\n",
       "    <tr style=\"text-align: right;\">\n",
       "      <th></th>\n",
       "      <th>IDLink</th>\n",
       "      <th>Title</th>\n",
       "      <th>Headline</th>\n",
       "      <th>Source</th>\n",
       "      <th>Topic</th>\n",
       "      <th>PublishDate</th>\n",
       "      <th>Facebook</th>\n",
       "      <th>GooglePlus</th>\n",
       "      <th>LinkedIn</th>\n",
       "    </tr>\n",
       "  </thead>\n",
       "  <tbody>\n",
       "    <tr>\n",
       "      <th>78</th>\n",
       "      <td>tgkeH242IX</td>\n",
       "      <td>Tuesday, 19 Apr 2016</td>\n",
       "      <td>JERICHO, March 28, 2016 (WAFA) – Secretary Gen...</td>\n",
       "      <td>NaN</td>\n",
       "      <td>palestine</td>\n",
       "      <td>2016-03-29 07:24:00</td>\n",
       "      <td>-1</td>\n",
       "      <td>-1</td>\n",
       "      <td>-1</td>\n",
       "    </tr>\n",
       "    <tr>\n",
       "      <th>207</th>\n",
       "      <td>6EnfIIM2XK</td>\n",
       "      <td>Wednesday, 30 Mar 2016</td>\n",
       "      <td>JERICHO, March 28, 2016 (WAFA) – Secretary Gen...</td>\n",
       "      <td>NaN</td>\n",
       "      <td>palestine</td>\n",
       "      <td>2016-03-29 14:10:00</td>\n",
       "      <td>0</td>\n",
       "      <td>0</td>\n",
       "      <td>0</td>\n",
       "    </tr>\n",
       "    <tr>\n",
       "      <th>456</th>\n",
       "      <td>QVFvknH8BH</td>\n",
       "      <td>Thursday, 21 Apr 2016</td>\n",
       "      <td>RAMALLAH, March 30, 2016 (WAFA) – On the occas...</td>\n",
       "      <td>NaN</td>\n",
       "      <td>palestine</td>\n",
       "      <td>2016-03-30 02:36:00</td>\n",
       "      <td>-1</td>\n",
       "      <td>-1</td>\n",
       "      <td>-1</td>\n",
       "    </tr>\n",
       "    <tr>\n",
       "      <th>469</th>\n",
       "      <td>ssRPV1RQKA</td>\n",
       "      <td>Wednesday, 30 Mar 2016</td>\n",
       "      <td>RAMALLAH, March 30, 2016 (WAFA) – On the occas...</td>\n",
       "      <td>NaN</td>\n",
       "      <td>palestine</td>\n",
       "      <td>2016-03-30 03:37:00</td>\n",
       "      <td>-1</td>\n",
       "      <td>-1</td>\n",
       "      <td>-1</td>\n",
       "    </tr>\n",
       "    <tr>\n",
       "      <th>514</th>\n",
       "      <td>jZ35MMRYnw</td>\n",
       "      <td>Wednesday, 30 Mar 2016</td>\n",
       "      <td>RAMALLAH, March 30, 2016 (WAFA) – On the 40 th...</td>\n",
       "      <td>NaN</td>\n",
       "      <td>palestine</td>\n",
       "      <td>2016-03-30 06:51:00</td>\n",
       "      <td>0</td>\n",
       "      <td>0</td>\n",
       "      <td>0</td>\n",
       "    </tr>\n",
       "    <tr>\n",
       "      <th>...</th>\n",
       "      <td>...</td>\n",
       "      <td>...</td>\n",
       "      <td>...</td>\n",
       "      <td>...</td>\n",
       "      <td>...</td>\n",
       "      <td>...</td>\n",
       "      <td>...</td>\n",
       "      <td>...</td>\n",
       "      <td>...</td>\n",
       "    </tr>\n",
       "    <tr>\n",
       "      <th>26920</th>\n",
       "      <td>KjltvY9p6K</td>\n",
       "      <td>May Economy Watchers Survey:Expectations index...</td>\n",
       "      <td>The latest announced May Economy Watchers Surv...</td>\n",
       "      <td>NaN</td>\n",
       "      <td>economy</td>\n",
       "      <td>2016-06-08 19:13:00</td>\n",
       "      <td>-1</td>\n",
       "      <td>0</td>\n",
       "      <td>0</td>\n",
       "    </tr>\n",
       "    <tr>\n",
       "      <th>26962</th>\n",
       "      <td>ycqBL8nI3c</td>\n",
       "      <td>May Economy Watchers Survey:Current Trends Ind...</td>\n",
       "      <td>The latest announced May Economy Watchers Surv...</td>\n",
       "      <td>NaN</td>\n",
       "      <td>economy</td>\n",
       "      <td>2016-06-08 22:10:00</td>\n",
       "      <td>-1</td>\n",
       "      <td>0</td>\n",
       "      <td>0</td>\n",
       "    </tr>\n",
       "    <tr>\n",
       "      <th>29254</th>\n",
       "      <td>o9lTYSMTJe</td>\n",
       "      <td>Microsoft Announces Quarterly Div of US36 Cent...</td>\n",
       "      <td>Microsoft announced that the quarterly dividen...</td>\n",
       "      <td>NaN</td>\n",
       "      <td>microsoft</td>\n",
       "      <td>2016-06-14 22:11:00</td>\n",
       "      <td>-1</td>\n",
       "      <td>0</td>\n",
       "      <td>0</td>\n",
       "    </tr>\n",
       "    <tr>\n",
       "      <th>30545</th>\n",
       "      <td>EMy4yLPi0I</td>\n",
       "      <td>U.S. California Surpasses France as World's 6t...</td>\n",
       "      <td>California is now the sixth-largest economy in...</td>\n",
       "      <td>NaN</td>\n",
       "      <td>economy</td>\n",
       "      <td>2016-06-17 21:59:00</td>\n",
       "      <td>0</td>\n",
       "      <td>0</td>\n",
       "      <td>0</td>\n",
       "    </tr>\n",
       "    <tr>\n",
       "      <th>34233</th>\n",
       "      <td>SF6xGPkOYy</td>\n",
       "      <td>UN chief calls for ending Gaza blockade as &amp;qu...</td>\n",
       "      <td>United Nations Secretary General Ban Ki-moon o...</td>\n",
       "      <td>NaN</td>\n",
       "      <td>palestine</td>\n",
       "      <td>2016-06-28 15:54:00</td>\n",
       "      <td>1</td>\n",
       "      <td>2</td>\n",
       "      <td>0</td>\n",
       "    </tr>\n",
       "  </tbody>\n",
       "</table>\n",
       "<p>101 rows × 9 columns</p>\n",
       "</div>"
      ],
      "text/plain": [
       "           IDLink                                              Title  \\\n",
       "78     tgkeH242IX                               Tuesday, 19 Apr 2016   \n",
       "207    6EnfIIM2XK                             Wednesday, 30 Mar 2016   \n",
       "456    QVFvknH8BH                              Thursday, 21 Apr 2016   \n",
       "469    ssRPV1RQKA                             Wednesday, 30 Mar 2016   \n",
       "514    jZ35MMRYnw                             Wednesday, 30 Mar 2016   \n",
       "...           ...                                                ...   \n",
       "26920  KjltvY9p6K  May Economy Watchers Survey:Expectations index...   \n",
       "26962  ycqBL8nI3c  May Economy Watchers Survey:Current Trends Ind...   \n",
       "29254  o9lTYSMTJe  Microsoft Announces Quarterly Div of US36 Cent...   \n",
       "30545  EMy4yLPi0I  U.S. California Surpasses France as World's 6t...   \n",
       "34233  SF6xGPkOYy  UN chief calls for ending Gaza blockade as &qu...   \n",
       "\n",
       "                                                Headline Source      Topic  \\\n",
       "78     JERICHO, March 28, 2016 (WAFA) – Secretary Gen...    NaN  palestine   \n",
       "207    JERICHO, March 28, 2016 (WAFA) – Secretary Gen...    NaN  palestine   \n",
       "456    RAMALLAH, March 30, 2016 (WAFA) – On the occas...    NaN  palestine   \n",
       "469    RAMALLAH, March 30, 2016 (WAFA) – On the occas...    NaN  palestine   \n",
       "514    RAMALLAH, March 30, 2016 (WAFA) – On the 40 th...    NaN  palestine   \n",
       "...                                                  ...    ...        ...   \n",
       "26920  The latest announced May Economy Watchers Surv...    NaN    economy   \n",
       "26962  The latest announced May Economy Watchers Surv...    NaN    economy   \n",
       "29254  Microsoft announced that the quarterly dividen...    NaN  microsoft   \n",
       "30545  California is now the sixth-largest economy in...    NaN    economy   \n",
       "34233  United Nations Secretary General Ban Ki-moon o...    NaN  palestine   \n",
       "\n",
       "               PublishDate  Facebook  GooglePlus  LinkedIn  \n",
       "78     2016-03-29 07:24:00        -1          -1        -1  \n",
       "207    2016-03-29 14:10:00         0           0         0  \n",
       "456    2016-03-30 02:36:00        -1          -1        -1  \n",
       "469    2016-03-30 03:37:00        -1          -1        -1  \n",
       "514    2016-03-30 06:51:00         0           0         0  \n",
       "...                    ...       ...         ...       ...  \n",
       "26920  2016-06-08 19:13:00        -1           0         0  \n",
       "26962  2016-06-08 22:10:00        -1           0         0  \n",
       "29254  2016-06-14 22:11:00        -1           0         0  \n",
       "30545  2016-06-17 21:59:00         0           0         0  \n",
       "34233  2016-06-28 15:54:00         1           2         0  \n",
       "\n",
       "[101 rows x 9 columns]"
      ]
     },
     "execution_count": 11,
     "metadata": {},
     "output_type": "execute_result"
    }
   ],
   "source": [
    "test[test['Source'].isna()]"
   ]
  },
  {
   "cell_type": "code",
   "execution_count": 12,
   "metadata": {},
   "outputs": [],
   "source": [
    "#Nếu 'Source==NaN' thì cho nó bằng 'Source' xuất hiện nhiều nhất\n",
    "most_frequent = test['Source'].mode()[0]\n",
    "test.fillna({'Source':most_frequent}, inplace=True)\n",
    "#test[test['PublishDate'] == '2016-03-29 07:24:00'].head()"
   ]
  },
  {
   "cell_type": "markdown",
   "metadata": {},
   "source": [
    "train = train.drop(columns=['PublishDate','Facebook','LinkedIn','GooglePlus'])\n",
    "train.head()"
   ]
  },
  {
   "cell_type": "markdown",
   "metadata": {},
   "source": [
    "test = test.drop(columns=['PublishDate','Facebook','LinkedIn','GooglePlus'])\n",
    "test.head()"
   ]
  },
  {
   "cell_type": "markdown",
   "metadata": {
    "id": "VYcggJkH1VfN"
   },
   "source": [
    "### **EDA - Data Visualization**"
   ]
  },
  {
   "cell_type": "code",
   "execution_count": 1,
   "metadata": {},
   "outputs": [],
   "source": [
    "# # - Biểu đồ dựa trên trang báo → Xem xu hướng cảm xúc của tờ báo\n",
    "# import pandas as pd\n",
    "# import matplotlib.pyplot as plt\n",
    "# import seaborn as sns\n",
    "\n",
    "\n",
    "# # Đếm số lượng bài báo cho mỗi trang báo\n",
    "# source_counts = train['Source'].value_counts().nlargest(20).index\n",
    "\n",
    "# # Lọc dữ liệu chỉ giữ lại 20 trang báo có số lượng bài báo nhiều nhất\n",
    "# top_sources_df = train[train['Source'].isin(source_counts)]\n",
    "\n",
    "# # Nhóm dữ liệu theo tên trang báo và tính trung bình cảm xúc cho mỗi nhóm\n",
    "# sentiment_df = top_sources_df.groupby('Source')[['SentimentTitle', 'SentimentHeadline']].mean().reset_index()\n",
    "\n",
    "# # Thiết lập kích thước và phong cách của biểu đồ\n",
    "# plt.figure(figsize=(14, 7))\n",
    "# sns.set(style=\"whitegrid\")\n",
    "\n",
    "# # Vẽ biểu đồ cho cảm xúc tiêu đề\n",
    "# sns.barplot(x='Source', y='SentimentTitle', data=sentiment_df, color='b', alpha=0.7, label='SentimentTitle')\n",
    "\n",
    "# # Vẽ biểu đồ cho cảm xúc tiêu đề phụ\n",
    "# sns.barplot(x='Source', y='SentimentHeadline', data=sentiment_df, color='r', alpha=0.5, label='SentimentHeadline')\n",
    "\n",
    "# # Thiết lập tiêu đề và nhãn\n",
    "# plt.title('Distribution of Sentiments by Top 20 News Sources')\n",
    "# plt.xlabel('News Source')\n",
    "# plt.ylabel('Average Sentiment')\n",
    "# plt.xticks(rotation=45)\n",
    "# plt.legend()\n",
    "\n",
    "# # Hiển thị biểu đồ\n",
    "# plt.show()\n",
    "\n",
    "\n",
    "# # - Biểu đồ cảm xúc dựa trên chủ đề → Chủ đề tiêu cực hay tích cực\n",
    "# # - Biểu đồ mức độ tương tác của người dùng các mạng xã hội đối với cảm xúc\n",
    "# # - Biểu đồ phân phối các nhãn cảm xúc\n",
    "# # - Xu hướng cảm xúc dựa trên ngày phát hành\n"
   ]
  },
  {
   "cell_type": "code",
   "execution_count": 14,
   "metadata": {
    "id": "u7xyvGVCuiOY"
   },
   "outputs": [],
   "source": [
    "sns.set_theme(style='darkgrid',palette='Set1')"
   ]
  },
  {
   "cell_type": "code",
   "execution_count": 15,
   "metadata": {
    "colab": {
     "base_uri": "https://localhost:8080/"
    },
    "id": "DMpAXT5pPqWQ",
    "outputId": "e45e8cd5-428c-4ad9-a1b3-f7e6f92504c1"
   },
   "outputs": [],
   "source": [
    "#%pip install scipy\n",
    "import matplotlib.pyplot as plt\n",
    "import seaborn as sns\n",
    "from scipy import stats"
   ]
  },
  {
   "cell_type": "code",
   "execution_count": 16,
   "metadata": {
    "colab": {
     "base_uri": "https://localhost:8080/",
     "height": 601
    },
    "id": "7oTRQdmWuiVh",
    "outputId": "d777fab5-8338-4793-ebd4-0abfcc6a7545"
   },
   "outputs": [
    {
     "data": {
      "image/png": "[encoded data removed]",
      "text/plain": [
       "<Figure size 600x600 with 3 Axes>"
      ]
     },
     "metadata": {},
     "output_type": "display_data"
    }
   ],
   "source": [
    "_ = sns.jointplot(x='SentimentTitle',y='SentimentHeadline',data=train,kind = 'reg')\n",
    "\n",
    "# Calculate Pearson correlation\n",
    "r, p = stats.pearsonr(train['SentimentTitle'], train['SentimentHeadline'])\n",
    "\n",
    "# Annotate the plot\n",
    "plt.annotate(f'r = {r:.2f}, p = {p:.3f}',\n",
    "             xy=(0.1, 0.9), xycoords='axes fraction')\n",
    "\n",
    "plt.show()\n",
    "\n",
    "#_.annotate(stats.pearsonr)\n",
    "#plt.show()"
   ]
  },
  {
   "cell_type": "code",
   "execution_count": 17,
   "metadata": {
    "colab": {
     "base_uri": "https://localhost:8080/",
     "height": 1000
    },
    "id": "d_WI_rUPuibw",
    "outputId": "fcce66b1-88c5-412d-b3b6-04fb8e6585cb"
   },
   "outputs": [
    {
     "data": {
      "image/png": "[encoded data removed]",
      "text/plain": [
       "<Figure size 1500x1500 with 2 Axes>"
      ]
     },
     "metadata": {},
     "output_type": "display_data"
    }
   ],
   "source": [
    "plt.figure(figsize=(15,15))\n",
    "_ = sns.heatmap(train[['Facebook','GooglePlus','LinkedIn','SentimentTitle','SentimentHeadline']].corr(), square=True, cmap='RdYlGn',linewidths=0.5,linecolor='w',annot=True)\n",
    "plt.title('Correlation matrix ')\n",
    "\n",
    "plt.show()"
   ]
  },
  {
   "cell_type": "code",
   "execution_count": 18,
   "metadata": {
    "colab": {
     "base_uri": "https://localhost:8080/"
    },
    "id": "dERGTDeYuii_",
    "outputId": "3e70cd2d-ed19-462a-fb9c-52a33188988e"
   },
   "outputs": [
    {
     "data": {
      "text/plain": [
       "Index(['IDLink', 'Title', 'Headline', 'Source', 'Topic', 'PublishDate',\n",
       "       'Facebook', 'GooglePlus', 'LinkedIn', 'SentimentTitle',\n",
       "       'SentimentHeadline'],\n",
       "      dtype='object')"
      ]
     },
     "execution_count": 18,
     "metadata": {},
     "output_type": "execute_result"
    }
   ],
   "source": [
    "train.columns"
   ]
  },
  {
   "cell_type": "code",
   "execution_count": 19,
   "metadata": {
    "colab": {
     "base_uri": "https://localhost:8080/"
    },
    "id": "Bj1p0ty9uipz",
    "outputId": "1dc2d66f-c21a-40f5-b944-e66c24e4461e"
   },
   "outputs": [
    {
     "data": {
      "text/plain": [
       "(55932, 11)"
      ]
     },
     "execution_count": 19,
     "metadata": {},
     "output_type": "execute_result"
    }
   ],
   "source": [
    "train.shape"
   ]
  },
  {
   "cell_type": "code",
   "execution_count": 20,
   "metadata": {
    "colab": {
     "base_uri": "https://localhost:8080/"
    },
    "id": "RaNrBtALuiww",
    "outputId": "f5ff3fa7-4f8d-4d88-e7fe-ca61a68434aa"
   },
   "outputs": [
    {
     "data": {
      "text/plain": [
       "RangeIndex(start=0, stop=55932, step=1)"
      ]
     },
     "execution_count": 20,
     "metadata": {},
     "output_type": "execute_result"
    }
   ],
   "source": [
    "train.index"
   ]
  },
  {
   "cell_type": "markdown",
   "metadata": {
    "id": "9bS9nozZ5YiL"
   },
   "source": [
    "### Loading spacy English model"
   ]
  },
  {
   "cell_type": "code",
   "execution_count": 21,
   "metadata": {
    "id": "O6OSK5Hkui4H"
   },
   "outputs": [],
   "source": [
    "nlp = English()"
   ]
  },
  {
   "cell_type": "markdown",
   "metadata": {
    "id": "MGdXKbHB5eJ0"
   },
   "source": [
    "### Custom Tokenizer\n",
    "#ternimal ==> python -m spacy download en_core_web_sm"
   ]
  },
  {
   "cell_type": "code",
   "execution_count": 22,
   "metadata": {
    "id": "cHcDaF0Uui_X"
   },
   "outputs": [],
   "source": [
    "# Creating our tokenizer function - lemmatized, lowercased; remove \"-PRON\"s, stop_words, punctuations\n",
    "nlp = spacy.load('en_core_web_sm')\n",
    "def spacy_tokenizer(sentence):\n",
    "    # Creating our token object, which is used to create documents with linguistic annotations.\n",
    "    mytokens = nlp(sentence)\n",
    "    # here the token is converted into lowercase if it is a Pronoun and if it is not a Pronoun then it is lemmatized (từ gốc dạng hiện tại) and lowercased\n",
    "    mytokens = [ word.lemma_.lower().strip() if word.lemma_ != \"-PRON-\" else word.lower_ for word in mytokens ]\n",
    "    # Removing stop words using stopword from spacy library and punctuations from string library\n",
    "    # stop_words này bao gồm cả các \"-PRON-\"\n",
    "    mytokens = [ word for word in mytokens if word not in stop_words and word not in punctuations ]\n",
    "    # return preprocessed list of tokens\n",
    "    return mytokens"
   ]
  },
  {
   "cell_type": "code",
   "execution_count": 23,
   "metadata": {
    "colab": {
     "base_uri": "https://localhost:8080/"
    },
    "id": "b9sJvoi_bCmb",
    "outputId": "783e2f1a-11a1-4de5-da3d-d235afd31729"
   },
   "outputs": [
    {
     "name": "stdout",
     "output_type": "stream",
     "text": [
      "['big', 'investment', 'las', 'vegas', 'crash', 'professor', 'stephen', 'miller', 'director', 'centre', 'business', 'economic']\n"
     ]
    }
   ],
   "source": [
    "#Test Tokenizer function\n",
    "sample_text = '\"\"\"\"\"\"\"It is the biggest investment in Las Vegas since the crash,\"\"\"\"\"\" said Professor Stephen Miller, director of the Centre for Business and Economic'\n",
    "tokens = spacy_tokenizer(sample_text)\n",
    "print(tokens)"
   ]
  },
  {
   "cell_type": "markdown",
   "metadata": {
    "id": "H-RyuXyFAf17"
   },
   "source": [
    "### Custom Transformer and text cleaner"
   ]
  },
  {
   "cell_type": "code",
   "execution_count": 24,
   "metadata": {},
   "outputs": [],
   "source": [
    "# # remove html\n",
    "# from bs4 import BeautifulSoup\n",
    "# def remove_html(raw_text):\n",
    "#     text = BeautifulSoup(raw_text,\"lxml\").get_text()\n",
    "#     return text\n",
    "\n",
    "# #remove date\n",
    "# from dateutil.parser import parse\n",
    "# def remove_date(raw_text):\n",
    "#     try:\n",
    "#         _,text = parse(raw_text,fuzzy_with_tokens=True, tzinfos= {\n",
    "#         \"AST\": tz.gettz(\"America/Santo_Domingo\"),  # Example: Atlantic Standard Time\n",
    "#         \"I\": tz.gettz(\"Asia/Colombo\"),            # Example: India Standard Time\n",
    "#         \"IP\": tz.gettz(\"Pacific/Port_Moresby\"),   # Example: Island Pacific Time\n",
    "#         \"EST\": tz.gettz(\"America/New_York\"),      # Example: Eastern Standard Time\n",
    "#         \"ET\": tz.gettz(\"America/New_York\"),       # Example: Eastern Time\n",
    "#         \"STATE\": tz.gettz(\"Australia/Sydney\"),    # Example: Standard Time Australia Eastern\n",
    "#         \"M\": tz.gettz(\"Asia/Riyadh\"),             # Example: Makkah Standard Time\n",
    "#         \"PMAST\": tz.gettz(\"Pacific/Pago_Pago\"),  # Example: Pacific/Pago_Pago Time\n",
    "#         \"ETAST\": tz.gettz(\"Pacific/Enderbury\"),  # Example: Pacific/Enderbury Time\n",
    "#         \"FW\": tz.gettz(\"Pacific/Fakaofo\"),  # Ví dụ: Fakaofo Time (FW)\n",
    "#     })\n",
    "#     except:\n",
    "#         text = raw_text\n",
    "#     return text\n",
    "\n",
    "# #test\n",
    "# sample_text_html = 'As Obama reminded the world during the recent Paris climate talks, \"\"\"\"\"\"I am an island boy,&quot; which means he has special empathy for the small'\n",
    "# sample_text_html = 'China\\'s central bank on Monday cut the proportion of funds banks must set aside as reserves, in Beijing\\'s latest attempt to tackle slowing growth in the world\\'s second largest economy. The People\\'s Bank of China (PBoC) said in a statement it would trim the so-called &quot;reserve requirement ratio&quot; (RRR) for financial institutions by 0.50 percentage points, freeing up more funds for them to lend. The'\n",
    "# sample_text_date = 'RAMALLAH, February 25, 2016 (WAFA) - Palestine Liberation Organization’s Sectretary-General Saeb Erekat Thursday expressed his concerns over Kenyan President Uhuru Kenyatta’s visit to Jerusalem and the Jordan Valley.'\n",
    "# sample_text_date = 'ABC'\n",
    "# print(remove_date(sample_text_date));"
   ]
  },
  {
   "cell_type": "code",
   "execution_count": 62,
   "metadata": {
    "id": "25ML_GgtujFX"
   },
   "outputs": [],
   "source": [
    "from bs4 import BeautifulSoup\n",
    "\n",
    "class predictors(TransformerMixin):\n",
    "    def transform(self, X, **transform_params):\n",
    "        return [clean_text(text) for text in X]\n",
    "\n",
    "    def fit(self, X, y, **fit_params):\n",
    "        return self\n",
    "\n",
    "    def get_params(self, deep=True):\n",
    "        return {}\n",
    "def clean_text(text):\n",
    "     # thêm <html> để tắt warning text không phải dạng html\n",
    "    text = BeautifulSoup(\"<html>\"+text+\"</html>\", \"lxml\").get_text()\n",
    "    return str(text).strip().lower()"
   ]
  },
  {
   "cell_type": "code",
   "execution_count": 97,
   "metadata": {
    "id": "uxQKrD3LujL2"
   },
   "outputs": [],
   "source": [
    "# bow_vector = CountVectorizer(max_features = 100,tokenizer = spacy_tokenizer,ngram_range=(1,2))\n",
    "tfidf_vector = TfidfVectorizer(max_features=100,tokenizer=spacy_tokenizer,ngram_range=(1, 2))"
   ]
  },
  {
   "cell_type": "code",
   "execution_count": 98,
   "metadata": {
    "colab": {
     "base_uri": "https://localhost:8080/"
    },
    "id": "IsdROfSeujSr",
    "outputId": "033bd193-e577-48cf-fba2-5733a16d8814"
   },
   "outputs": [],
   "source": [
    "X_train_title = train.loc[:,'Title'].values\n",
    "y_train_title = train.loc[:,['SentimentTitle']].values\n",
    "\n",
    "X_train_headline = train.loc[:,'Headline'].values\n",
    "y_train_headline = train.loc[:,['SentimentHeadline']].values"
   ]
  },
  {
   "cell_type": "code",
   "execution_count": 99,
   "metadata": {
    "id": "MaKdcaDXEj8F"
   },
   "outputs": [],
   "source": [
    "X_test_title = test.loc[:,'Title'].values\n",
    "X_test_headline = test.loc[:,'Headline'].values"
   ]
  },
  {
   "cell_type": "code",
   "execution_count": 100,
   "metadata": {
    "colab": {
     "base_uri": "https://localhost:8080/"
    },
    "id": "GKIZncGIBQlI",
    "outputId": "ef0e3513-df00-4d38-bf4f-71669813f2d2"
   },
   "outputs": [
    {
     "data": {
      "text/plain": [
       "(55932,)"
      ]
     },
     "execution_count": 100,
     "metadata": {},
     "output_type": "execute_result"
    }
   ],
   "source": [
    "X_train_title.shape"
   ]
  },
  {
   "cell_type": "code",
   "execution_count": 101,
   "metadata": {
    "colab": {
     "base_uri": "https://localhost:8080/"
    },
    "id": "g-48LWt3BQvL",
    "outputId": "da5c1222-5200-4576-aee9-2d9e7077acff"
   },
   "outputs": [
    {
     "data": {
      "text/plain": [
       "(55932,)"
      ]
     },
     "execution_count": 101,
     "metadata": {},
     "output_type": "execute_result"
    }
   ],
   "source": [
    "X_train_headline.shape"
   ]
  },
  {
   "cell_type": "code",
   "execution_count": 102,
   "metadata": {
    "colab": {
     "base_uri": "https://localhost:8080/"
    },
    "id": "oGGMkJliBQ3g",
    "outputId": "d800771e-e4d8-41dd-ce64-c36ef1e84467"
   },
   "outputs": [
    {
     "data": {
      "text/plain": [
       "(55932, 1)"
      ]
     },
     "execution_count": 102,
     "metadata": {},
     "output_type": "execute_result"
    }
   ],
   "source": [
    "y_train_headline.shape"
   ]
  },
  {
   "cell_type": "code",
   "execution_count": 103,
   "metadata": {
    "id": "0IDm74eWFnrg"
   },
   "outputs": [],
   "source": [
    "\n",
    "x_train_title, x_valid_title, Y_train_title, y_valid_title = train_test_split(X_train_title, y_train_title, shuffle = True, test_size = 0.1)\n",
    "x_train_headline, x_valid_headline, Y_train_headline, y_valid_headline = train_test_split(X_train_headline, y_train_headline, shuffle = True, test_size = 0.1)"
   ]
  },
  {
   "cell_type": "code",
   "execution_count": 105,
   "metadata": {
    "id": "7OlNMXzcCojq"
   },
   "outputs": [],
   "source": [
    "abs_y_train_title=np.sign(Y_train_title)\n",
    "abs_y_train_headline=np.sign(Y_train_headline)\n",
    "abs_y_valid_title=np.sign(y_valid_title)\n",
    "abs_y_valid_headline=np.sign(y_valid_headline)"
   ]
  },
  {
   "cell_type": "markdown",
   "metadata": {
    "id": "nRcKGYwPCFeU"
   },
   "source": [
    "### XGBoost Regressor\n"
   ]
  },
  {
   "cell_type": "code",
   "execution_count": 106,
   "metadata": {
    "id": "eO91VbkEBQ-o"
   },
   "outputs": [],
   "source": [
    "# xgboost = MultiOutputRegressor(XGBRegressor())\n",
    "regr_multirf = MultiOutputRegressor(RandomForestRegressor(n_estimators=100,\n",
    "                                                          max_depth=None,\n",
    "                                                          random_state=0))"
   ]
  },
  {
   "cell_type": "code",
   "execution_count": 109,
   "metadata": {
    "id": "7Hkv3A3wBRGZ"
   },
   "outputs": [],
   "source": [
    "pipe1 = Pipeline([(\"cleaner\", predictors()),\n",
    "                 ('vectorizer', tfidf_vector),\n",
    "                 ('regressor', regr_multirf)])\n",
    "\n",
    "pipe2 = Pipeline([(\"cleaner\", predictors()),\n",
    "                 ('vectorizer', tfidf_vector),\n",
    "                 ('regressor', regr_multirf)])"
   ]
  },
  {
   "cell_type": "markdown",
   "metadata": {
    "id": "LxL_zoDbCZAe"
   },
   "source": [
    "#### Title model generation"
   ]
  },
  {
   "cell_type": "code",
   "execution_count": 110,
   "metadata": {
    "colab": {
     "base_uri": "https://localhost:8080/",
     "height": 453
    },
    "id": "imoZLVylBRN7",
    "outputId": "48cd954c-4555-4448-9827-7d76014ab87c"
   },
   "outputs": [
    {
     "data": {
      "text/html": [
       "<style>#sk-container-id-6 {color: black;background-color: white;}#sk-container-id-6 pre{padding: 0;}#sk-container-id-6 div.sk-toggleable {background-color: white;}#sk-container-id-6 label.sk-toggleable__label {cursor: pointer;display: block;width: 100%;margin-bottom: 0;padding: 0.3em;box-sizing: border-box;text-align: center;}#sk-container-id-6 label.sk-toggleable__label-arrow:before {content: \"▸\";float: left;margin-right: 0.25em;color: #696969;}#sk-container-id-6 label.sk-toggleable__label-arrow:hover:before {color: black;}#sk-container-id-6 div.sk-estimator:hover label.sk-toggleable__label-arrow:before {color: black;}#sk-container-id-6 div.sk-toggleable__content {max-height: 0;max-width: 0;overflow: hidden;text-align: left;background-color: #f0f8ff;}#sk-container-id-6 div.sk-toggleable__content pre {margin: 0.2em;color: black;border-radius: 0.25em;background-color: #f0f8ff;}#sk-container-id-6 input.sk-toggleable__control:checked~div.sk-toggleable__content {max-height: 200px;max-width: 100%;overflow: auto;}#sk-container-id-6 input.sk-toggleable__control:checked~label.sk-toggleable__label-arrow:before {content: \"▾\";}#sk-container-id-6 div.sk-estimator input.sk-toggleable__control:checked~label.sk-toggleable__label {background-color: #d4ebff;}#sk-container-id-6 div.sk-label input.sk-toggleable__control:checked~label.sk-toggleable__label {background-color: #d4ebff;}#sk-container-id-6 input.sk-hidden--visually {border: 0;clip: rect(1px 1px 1px 1px);clip: rect(1px, 1px, 1px, 1px);height: 1px;margin: -1px;overflow: hidden;padding: 0;position: absolute;width: 1px;}#sk-container-id-6 div.sk-estimator {font-family: monospace;background-color: #f0f8ff;border: 1px dotted black;border-radius: 0.25em;box-sizing: border-box;margin-bottom: 0.5em;}#sk-container-id-6 div.sk-estimator:hover {background-color: #d4ebff;}#sk-container-id-6 div.sk-parallel-item::after {content: \"\";width: 100%;border-bottom: 1px solid gray;flex-grow: 1;}#sk-container-id-6 div.sk-label:hover label.sk-toggleable__label {background-color: #d4ebff;}#sk-container-id-6 div.sk-serial::before {content: \"\";position: absolute;border-left: 1px solid gray;box-sizing: border-box;top: 0;bottom: 0;left: 50%;z-index: 0;}#sk-container-id-6 div.sk-serial {display: flex;flex-direction: column;align-items: center;background-color: white;padding-right: 0.2em;padding-left: 0.2em;position: relative;}#sk-container-id-6 div.sk-item {position: relative;z-index: 1;}#sk-container-id-6 div.sk-parallel {display: flex;align-items: stretch;justify-content: center;background-color: white;position: relative;}#sk-container-id-6 div.sk-item::before, #sk-container-id-6 div.sk-parallel-item::before {content: \"\";position: absolute;border-left: 1px solid gray;box-sizing: border-box;top: 0;bottom: 0;left: 50%;z-index: -1;}#sk-container-id-6 div.sk-parallel-item {display: flex;flex-direction: column;z-index: 1;position: relative;background-color: white;}#sk-container-id-6 div.sk-parallel-item:first-child::after {align-self: flex-end;width: 50%;}#sk-container-id-6 div.sk-parallel-item:last-child::after {align-self: flex-start;width: 50%;}#sk-container-id-6 div.sk-parallel-item:only-child::after {width: 0;}#sk-container-id-6 div.sk-dashed-wrapped {border: 1px dashed gray;margin: 0 0.4em 0.5em 0.4em;box-sizing: border-box;padding-bottom: 0.4em;background-color: white;}#sk-container-id-6 div.sk-label label {font-family: monospace;font-weight: bold;display: inline-block;line-height: 1.2em;}#sk-container-id-6 div.sk-label-container {text-align: center;}#sk-container-id-6 div.sk-container {/* jupyter's `normalize.less` sets `[hidden] { display: none; }` but bootstrap.min.css set `[hidden] { display: none !important; }` so we also need the `!important` here to be able to override the default hidden behavior on the sphinx rendered scikit-learn.org. See: https://github.com/scikit-learn/scikit-learn/issues/21755 */display: inline-block !important;position: relative;}#sk-container-id-6 div.sk-text-repr-fallback {display: none;}</style><div id=\"sk-container-id-6\" class=\"sk-top-container\"><div class=\"sk-text-repr-fallback\"><pre>Pipeline(steps=[(&#x27;cleaner&#x27;, &lt;__main__.predictors object at 0x138f53690&gt;),\n",
       "                (&#x27;vectorizer&#x27;,\n",
       "                 TfidfVectorizer(max_features=100, ngram_range=(1, 2),\n",
       "                                 tokenizer=&lt;function spacy_tokenizer at 0x30ba3e480&gt;)),\n",
       "                (&#x27;regressor&#x27;,\n",
       "                 MultiOutputRegressor(estimator=RandomForestRegressor(random_state=0)))])</pre><b>In a Jupyter environment, please rerun this cell to show the HTML representation or trust the notebook. <br />On GitHub, the HTML representation is unable to render, please try loading this page with nbviewer.org.</b></div><div class=\"sk-container\" hidden><div class=\"sk-item sk-dashed-wrapped\"><div class=\"sk-label-container\"><div class=\"sk-label sk-toggleable\"><input class=\"sk-toggleable__control sk-hidden--visually\" id=\"sk-estimator-id-36\" type=\"checkbox\" ><label for=\"sk-estimator-id-36\" class=\"sk-toggleable__label sk-toggleable__label-arrow\">Pipeline</label><div class=\"sk-toggleable__content\"><pre>Pipeline(steps=[(&#x27;cleaner&#x27;, &lt;__main__.predictors object at 0x138f53690&gt;),\n",
       "                (&#x27;vectorizer&#x27;,\n",
       "                 TfidfVectorizer(max_features=100, ngram_range=(1, 2),\n",
       "                                 tokenizer=&lt;function spacy_tokenizer at 0x30ba3e480&gt;)),\n",
       "                (&#x27;regressor&#x27;,\n",
       "                 MultiOutputRegressor(estimator=RandomForestRegressor(random_state=0)))])</pre></div></div></div><div class=\"sk-serial\"><div class=\"sk-item\"><div class=\"sk-estimator sk-toggleable\"><input class=\"sk-toggleable__control sk-hidden--visually\" id=\"sk-estimator-id-37\" type=\"checkbox\" ><label for=\"sk-estimator-id-37\" class=\"sk-toggleable__label sk-toggleable__label-arrow\">predictors</label><div class=\"sk-toggleable__content\"><pre>&lt;__main__.predictors object at 0x138f53690&gt;</pre></div></div></div><div class=\"sk-item\"><div class=\"sk-estimator sk-toggleable\"><input class=\"sk-toggleable__control sk-hidden--visually\" id=\"sk-estimator-id-38\" type=\"checkbox\" ><label for=\"sk-estimator-id-38\" class=\"sk-toggleable__label sk-toggleable__label-arrow\">TfidfVectorizer</label><div class=\"sk-toggleable__content\"><pre>TfidfVectorizer(max_features=100, ngram_range=(1, 2),\n",
       "                tokenizer=&lt;function spacy_tokenizer at 0x30ba3e480&gt;)</pre></div></div></div><div class=\"sk-item sk-dashed-wrapped\"><div class=\"sk-label-container\"><div class=\"sk-label sk-toggleable\"><input class=\"sk-toggleable__control sk-hidden--visually\" id=\"sk-estimator-id-39\" type=\"checkbox\" ><label for=\"sk-estimator-id-39\" class=\"sk-toggleable__label sk-toggleable__label-arrow\">regressor: MultiOutputRegressor</label><div class=\"sk-toggleable__content\"><pre>MultiOutputRegressor(estimator=RandomForestRegressor(random_state=0))</pre></div></div></div><div class=\"sk-parallel\"><div class=\"sk-parallel-item\"><div class=\"sk-item\"><div class=\"sk-label-container\"><div class=\"sk-label sk-toggleable\"><input class=\"sk-toggleable__control sk-hidden--visually\" id=\"sk-estimator-id-40\" type=\"checkbox\" ><label for=\"sk-estimator-id-40\" class=\"sk-toggleable__label sk-toggleable__label-arrow\">estimator: RandomForestRegressor</label><div class=\"sk-toggleable__content\"><pre>RandomForestRegressor(random_state=0)</pre></div></div></div><div class=\"sk-serial\"><div class=\"sk-item\"><div class=\"sk-estimator sk-toggleable\"><input class=\"sk-toggleable__control sk-hidden--visually\" id=\"sk-estimator-id-41\" type=\"checkbox\" ><label for=\"sk-estimator-id-41\" class=\"sk-toggleable__label sk-toggleable__label-arrow\">RandomForestRegressor</label><div class=\"sk-toggleable__content\"><pre>RandomForestRegressor(random_state=0)</pre></div></div></div></div></div></div></div></div></div></div></div></div>"
      ],
      "text/plain": [
       "Pipeline(steps=[('cleaner', <__main__.predictors object at 0x138f53690>),\n",
       "                ('vectorizer',\n",
       "                 TfidfVectorizer(max_features=100, ngram_range=(1, 2),\n",
       "                                 tokenizer=<function spacy_tokenizer at 0x30ba3e480>)),\n",
       "                ('regressor',\n",
       "                 MultiOutputRegressor(estimator=RandomForestRegressor(random_state=0)))])"
      ]
     },
     "execution_count": 110,
     "metadata": {},
     "output_type": "execute_result"
    }
   ],
   "source": [
    "pipe1.fit(x_train_title,Y_train_title)"
   ]
  },
  {
   "cell_type": "code",
   "execution_count": 111,
   "metadata": {
    "colab": {
     "base_uri": "https://localhost:8080/",
     "height": 453
    },
    "id": "PJttwiJsBRVy",
    "outputId": "c33ecd2c-c828-4e49-a0d0-2b0fdbfcc453"
   },
   "outputs": [
    {
     "name": "stderr",
     "output_type": "stream",
     "text": [
      "/opt/anaconda3/lib/python3.11/site-packages/sklearn/feature_extraction/text.py:528: UserWarning: The parameter 'token_pattern' will not be used since 'tokenizer' is not None'\n",
      "  warnings.warn(\n"
     ]
    },
    {
     "data": {
      "text/html": [
       "<style>#sk-container-id-7 {color: black;background-color: white;}#sk-container-id-7 pre{padding: 0;}#sk-container-id-7 div.sk-toggleable {background-color: white;}#sk-container-id-7 label.sk-toggleable__label {cursor: pointer;display: block;width: 100%;margin-bottom: 0;padding: 0.3em;box-sizing: border-box;text-align: center;}#sk-container-id-7 label.sk-toggleable__label-arrow:before {content: \"▸\";float: left;margin-right: 0.25em;color: #696969;}#sk-container-id-7 label.sk-toggleable__label-arrow:hover:before {color: black;}#sk-container-id-7 div.sk-estimator:hover label.sk-toggleable__label-arrow:before {color: black;}#sk-container-id-7 div.sk-toggleable__content {max-height: 0;max-width: 0;overflow: hidden;text-align: left;background-color: #f0f8ff;}#sk-container-id-7 div.sk-toggleable__content pre {margin: 0.2em;color: black;border-radius: 0.25em;background-color: #f0f8ff;}#sk-container-id-7 input.sk-toggleable__control:checked~div.sk-toggleable__content {max-height: 200px;max-width: 100%;overflow: auto;}#sk-container-id-7 input.sk-toggleable__control:checked~label.sk-toggleable__label-arrow:before {content: \"▾\";}#sk-container-id-7 div.sk-estimator input.sk-toggleable__control:checked~label.sk-toggleable__label {background-color: #d4ebff;}#sk-container-id-7 div.sk-label input.sk-toggleable__control:checked~label.sk-toggleable__label {background-color: #d4ebff;}#sk-container-id-7 input.sk-hidden--visually {border: 0;clip: rect(1px 1px 1px 1px);clip: rect(1px, 1px, 1px, 1px);height: 1px;margin: -1px;overflow: hidden;padding: 0;position: absolute;width: 1px;}#sk-container-id-7 div.sk-estimator {font-family: monospace;background-color: #f0f8ff;border: 1px dotted black;border-radius: 0.25em;box-sizing: border-box;margin-bottom: 0.5em;}#sk-container-id-7 div.sk-estimator:hover {background-color: #d4ebff;}#sk-container-id-7 div.sk-parallel-item::after {content: \"\";width: 100%;border-bottom: 1px solid gray;flex-grow: 1;}#sk-container-id-7 div.sk-label:hover label.sk-toggleable__label {background-color: #d4ebff;}#sk-container-id-7 div.sk-serial::before {content: \"\";position: absolute;border-left: 1px solid gray;box-sizing: border-box;top: 0;bottom: 0;left: 50%;z-index: 0;}#sk-container-id-7 div.sk-serial {display: flex;flex-direction: column;align-items: center;background-color: white;padding-right: 0.2em;padding-left: 0.2em;position: relative;}#sk-container-id-7 div.sk-item {position: relative;z-index: 1;}#sk-container-id-7 div.sk-parallel {display: flex;align-items: stretch;justify-content: center;background-color: white;position: relative;}#sk-container-id-7 div.sk-item::before, #sk-container-id-7 div.sk-parallel-item::before {content: \"\";position: absolute;border-left: 1px solid gray;box-sizing: border-box;top: 0;bottom: 0;left: 50%;z-index: -1;}#sk-container-id-7 div.sk-parallel-item {display: flex;flex-direction: column;z-index: 1;position: relative;background-color: white;}#sk-container-id-7 div.sk-parallel-item:first-child::after {align-self: flex-end;width: 50%;}#sk-container-id-7 div.sk-parallel-item:last-child::after {align-self: flex-start;width: 50%;}#sk-container-id-7 div.sk-parallel-item:only-child::after {width: 0;}#sk-container-id-7 div.sk-dashed-wrapped {border: 1px dashed gray;margin: 0 0.4em 0.5em 0.4em;box-sizing: border-box;padding-bottom: 0.4em;background-color: white;}#sk-container-id-7 div.sk-label label {font-family: monospace;font-weight: bold;display: inline-block;line-height: 1.2em;}#sk-container-id-7 div.sk-label-container {text-align: center;}#sk-container-id-7 div.sk-container {/* jupyter's `normalize.less` sets `[hidden] { display: none; }` but bootstrap.min.css set `[hidden] { display: none !important; }` so we also need the `!important` here to be able to override the default hidden behavior on the sphinx rendered scikit-learn.org. See: https://github.com/scikit-learn/scikit-learn/issues/21755 */display: inline-block !important;position: relative;}#sk-container-id-7 div.sk-text-repr-fallback {display: none;}</style><div id=\"sk-container-id-7\" class=\"sk-top-container\"><div class=\"sk-text-repr-fallback\"><pre>Pipeline(steps=[(&#x27;cleaner&#x27;, &lt;__main__.predictors object at 0x138ed7fd0&gt;),\n",
       "                (&#x27;vectorizer&#x27;,\n",
       "                 TfidfVectorizer(max_features=100, ngram_range=(1, 2),\n",
       "                                 tokenizer=&lt;function spacy_tokenizer at 0x30ba3e480&gt;)),\n",
       "                (&#x27;regressor&#x27;,\n",
       "                 MultiOutputRegressor(estimator=RandomForestRegressor(random_state=0)))])</pre><b>In a Jupyter environment, please rerun this cell to show the HTML representation or trust the notebook. <br />On GitHub, the HTML representation is unable to render, please try loading this page with nbviewer.org.</b></div><div class=\"sk-container\" hidden><div class=\"sk-item sk-dashed-wrapped\"><div class=\"sk-label-container\"><div class=\"sk-label sk-toggleable\"><input class=\"sk-toggleable__control sk-hidden--visually\" id=\"sk-estimator-id-42\" type=\"checkbox\" ><label for=\"sk-estimator-id-42\" class=\"sk-toggleable__label sk-toggleable__label-arrow\">Pipeline</label><div class=\"sk-toggleable__content\"><pre>Pipeline(steps=[(&#x27;cleaner&#x27;, &lt;__main__.predictors object at 0x138ed7fd0&gt;),\n",
       "                (&#x27;vectorizer&#x27;,\n",
       "                 TfidfVectorizer(max_features=100, ngram_range=(1, 2),\n",
       "                                 tokenizer=&lt;function spacy_tokenizer at 0x30ba3e480&gt;)),\n",
       "                (&#x27;regressor&#x27;,\n",
       "                 MultiOutputRegressor(estimator=RandomForestRegressor(random_state=0)))])</pre></div></div></div><div class=\"sk-serial\"><div class=\"sk-item\"><div class=\"sk-estimator sk-toggleable\"><input class=\"sk-toggleable__control sk-hidden--visually\" id=\"sk-estimator-id-43\" type=\"checkbox\" ><label for=\"sk-estimator-id-43\" class=\"sk-toggleable__label sk-toggleable__label-arrow\">predictors</label><div class=\"sk-toggleable__content\"><pre>&lt;__main__.predictors object at 0x138ed7fd0&gt;</pre></div></div></div><div class=\"sk-item\"><div class=\"sk-estimator sk-toggleable\"><input class=\"sk-toggleable__control sk-hidden--visually\" id=\"sk-estimator-id-44\" type=\"checkbox\" ><label for=\"sk-estimator-id-44\" class=\"sk-toggleable__label sk-toggleable__label-arrow\">TfidfVectorizer</label><div class=\"sk-toggleable__content\"><pre>TfidfVectorizer(max_features=100, ngram_range=(1, 2),\n",
       "                tokenizer=&lt;function spacy_tokenizer at 0x30ba3e480&gt;)</pre></div></div></div><div class=\"sk-item sk-dashed-wrapped\"><div class=\"sk-label-container\"><div class=\"sk-label sk-toggleable\"><input class=\"sk-toggleable__control sk-hidden--visually\" id=\"sk-estimator-id-45\" type=\"checkbox\" ><label for=\"sk-estimator-id-45\" class=\"sk-toggleable__label sk-toggleable__label-arrow\">regressor: MultiOutputRegressor</label><div class=\"sk-toggleable__content\"><pre>MultiOutputRegressor(estimator=RandomForestRegressor(random_state=0))</pre></div></div></div><div class=\"sk-parallel\"><div class=\"sk-parallel-item\"><div class=\"sk-item\"><div class=\"sk-label-container\"><div class=\"sk-label sk-toggleable\"><input class=\"sk-toggleable__control sk-hidden--visually\" id=\"sk-estimator-id-46\" type=\"checkbox\" ><label for=\"sk-estimator-id-46\" class=\"sk-toggleable__label sk-toggleable__label-arrow\">estimator: RandomForestRegressor</label><div class=\"sk-toggleable__content\"><pre>RandomForestRegressor(random_state=0)</pre></div></div></div><div class=\"sk-serial\"><div class=\"sk-item\"><div class=\"sk-estimator sk-toggleable\"><input class=\"sk-toggleable__control sk-hidden--visually\" id=\"sk-estimator-id-47\" type=\"checkbox\" ><label for=\"sk-estimator-id-47\" class=\"sk-toggleable__label sk-toggleable__label-arrow\">RandomForestRegressor</label><div class=\"sk-toggleable__content\"><pre>RandomForestRegressor(random_state=0)</pre></div></div></div></div></div></div></div></div></div></div></div></div>"
      ],
      "text/plain": [
       "Pipeline(steps=[('cleaner', <__main__.predictors object at 0x138ed7fd0>),\n",
       "                ('vectorizer',\n",
       "                 TfidfVectorizer(max_features=100, ngram_range=(1, 2),\n",
       "                                 tokenizer=<function spacy_tokenizer at 0x30ba3e480>)),\n",
       "                ('regressor',\n",
       "                 MultiOutputRegressor(estimator=RandomForestRegressor(random_state=0)))])"
      ]
     },
     "execution_count": 111,
     "metadata": {},
     "output_type": "execute_result"
    }
   ],
   "source": [
    "pipe2.fit(x_train_headline,Y_train_headline)"
   ]
  },
  {
   "cell_type": "code",
   "execution_count": 112,
   "metadata": {
    "id": "KlCfzk83N-Zk"
   },
   "outputs": [],
   "source": [
    "test_pred_title=pipe1.predict(x_valid_title)"
   ]
  },
  {
   "cell_type": "code",
   "execution_count": 113,
   "metadata": {
    "id": "1VQPzBfCN-Dw"
   },
   "outputs": [],
   "source": [
    "test_pred_headline=pipe2.predict(x_valid_headline)"
   ]
  },
  {
   "cell_type": "code",
   "execution_count": 115,
   "metadata": {
    "id": "bKEHO_ZbBRkg"
   },
   "outputs": [],
   "source": [
    "mae_title=mean_absolute_error(y_valid_title,test_pred_title)"
   ]
  },
  {
   "cell_type": "code",
   "execution_count": 116,
   "metadata": {
    "id": "Vyd-11iFBRsl"
   },
   "outputs": [],
   "source": [
    "mae_headline=mean_absolute_error(y_valid_headline,test_pred_headline)"
   ]
  },
  {
   "cell_type": "code",
   "execution_count": 117,
   "metadata": {
    "id": "eqbZofQMNZ5-"
   },
   "outputs": [],
   "source": [
    "score=1-((0.4*mae_title)+(0.6*mae_headline))"
   ]
  },
  {
   "cell_type": "code",
   "execution_count": 118,
   "metadata": {
    "colab": {
     "base_uri": "https://localhost:8080/"
    },
    "id": "hLwFkJOmNaZM",
    "outputId": "e26c778c-6bdb-406b-e0c2-f433bea691e6"
   },
   "outputs": [
    {
     "data": {
      "text/plain": [
       "0.8992026619409362"
      ]
     },
     "execution_count": 118,
     "metadata": {},
     "output_type": "execute_result"
    }
   ],
   "source": [
    "#Score của tập valid\n",
    "score"
   ]
  },
  {
   "cell_type": "code",
   "execution_count": 82,
   "metadata": {
    "id": "b-7XwOfRYF0_"
   },
   "outputs": [],
   "source": [
    "pred_title=pipe1.predict(X_test_title)"
   ]
  },
  {
   "cell_type": "code",
   "execution_count": 83,
   "metadata": {
    "id": "ZedfKjY1YGFL"
   },
   "outputs": [],
   "source": [
    "pred_headline=pipe2.predict(X_test_headline)"
   ]
  },
  {
   "cell_type": "code",
   "execution_count": 84,
   "metadata": {
    "id": "aUdcFbpFNawJ"
   },
   "outputs": [],
   "source": [
    "submission=pd.DataFrame()"
   ]
  },
  {
   "cell_type": "code",
   "execution_count": 85,
   "metadata": {
    "id": "uP0eIlbyNa_t"
   },
   "outputs": [],
   "source": [
    "submission['IDLink']=test['IDLink'].to_list()\n",
    "submission['SentimentTitle']=pred_title\n",
    "submission['SentimentHeadline']=pred_headline"
   ]
  },
  {
   "cell_type": "markdown",
   "metadata": {
    "id": "faX07_3_1utm"
   },
   "source": [
    "<h1>View Submisson File</h1>"
   ]
  },
  {
   "cell_type": "code",
   "execution_count": 86,
   "metadata": {
    "colab": {
     "base_uri": "https://localhost:8080/",
     "height": 206
    },
    "id": "ZQh7VU9UNarD",
    "outputId": "4463245e-2c68-41e6-b45e-d0e38b664cfe"
   },
   "outputs": [
    {
     "data": {
      "text/html": [
       "<div>\n",
       "<style scoped>\n",
       "    .dataframe tbody tr th:only-of-type {\n",
       "        vertical-align: middle;\n",
       "    }\n",
       "\n",
       "    .dataframe tbody tr th {\n",
       "        vertical-align: top;\n",
       "    }\n",
       "\n",
       "    .dataframe thead th {\n",
       "        text-align: right;\n",
       "    }\n",
       "</style>\n",
       "<table border=\"1\" class=\"dataframe\">\n",
       "  <thead>\n",
       "    <tr style=\"text-align: right;\">\n",
       "      <th></th>\n",
       "      <th>IDLink</th>\n",
       "      <th>SentimentTitle</th>\n",
       "      <th>SentimentHeadline</th>\n",
       "    </tr>\n",
       "  </thead>\n",
       "  <tbody>\n",
       "    <tr>\n",
       "      <th>0</th>\n",
       "      <td>tFrqIR6Chj</td>\n",
       "      <td>-0.031003</td>\n",
       "      <td>-0.031349</td>\n",
       "    </tr>\n",
       "    <tr>\n",
       "      <th>1</th>\n",
       "      <td>DVAaGErjlF</td>\n",
       "      <td>-0.022338</td>\n",
       "      <td>0.040360</td>\n",
       "    </tr>\n",
       "    <tr>\n",
       "      <th>2</th>\n",
       "      <td>OT9UIZm5M2</td>\n",
       "      <td>-0.022338</td>\n",
       "      <td>-0.037751</td>\n",
       "    </tr>\n",
       "    <tr>\n",
       "      <th>3</th>\n",
       "      <td>lflGp3q2Fj</td>\n",
       "      <td>-0.033256</td>\n",
       "      <td>-0.013995</td>\n",
       "    </tr>\n",
       "    <tr>\n",
       "      <th>4</th>\n",
       "      <td>zDYG0SoovZ</td>\n",
       "      <td>-0.090915</td>\n",
       "      <td>-0.056369</td>\n",
       "    </tr>\n",
       "  </tbody>\n",
       "</table>\n",
       "</div>"
      ],
      "text/plain": [
       "       IDLink  SentimentTitle  SentimentHeadline\n",
       "0  tFrqIR6Chj       -0.031003          -0.031349\n",
       "1  DVAaGErjlF       -0.022338           0.040360\n",
       "2  OT9UIZm5M2       -0.022338          -0.037751\n",
       "3  lflGp3q2Fj       -0.033256          -0.013995\n",
       "4  zDYG0SoovZ       -0.090915          -0.056369"
      ]
     },
     "execution_count": 86,
     "metadata": {},
     "output_type": "execute_result"
    }
   ],
   "source": [
    "submission.head()"
   ]
  },
  {
   "cell_type": "code",
   "execution_count": 87,
   "metadata": {
    "colab": {
     "base_uri": "https://localhost:8080/",
     "height": 501
    },
    "id": "6WfI3vKH87GT",
    "outputId": "84aa9914-4cd0-485a-896d-f84ae46798ed"
   },
   "outputs": [
    {
     "data": {
      "image/png": "[encoded data removed]",
      "text/plain": [
       "<Figure size 1200x500 with 2 Axes>"
      ]
     },
     "metadata": {},
     "output_type": "display_data"
    }
   ],
   "source": [
    "# Tạo một figure với hai trục (axes)\n",
    "fig, axes = plt.subplots(nrows=1, ncols=2, figsize=(12, 5))\n",
    "\n",
    "# Vẽ biểu đồ phân phối của SentimentTitle trên trục thứ nhất\n",
    "submission['SentimentTitle'].plot(kind='hist', bins=20, ax=axes[0], title='SentimentTitle')\n",
    "axes[0].spines[['top', 'right']].set_visible(False)\n",
    "\n",
    "# Vẽ biểu đồ phân phối của SentimentHeadline trên trục thứ hai\n",
    "submission['SentimentHeadline'].plot(kind='hist', bins=20, ax=axes[1], title='SentimentHeadline')\n",
    "axes[1].spines[['top', 'right']].set_visible(False)\n",
    "\n",
    "# Hiển thị biểu đồ\n",
    "plt.tight_layout()\n",
    "plt.show()"
   ]
  },
  {
   "cell_type": "code",
   "execution_count": 88,
   "metadata": {
    "id": "79WUSHtDNaSj"
   },
   "outputs": [],
   "source": [
    "submission.to_csv('submission3.csv')"
   ]
  },
  {
   "cell_type": "markdown",
   "metadata": {
    "id": "hO7c8bgz5AJo"
   },
   "source": [
    "<h1>Play Ground"
   ]
  },
  {
   "cell_type": "code",
   "execution_count": 89,
   "metadata": {
    "id": "bpaDvkZj17wO"
   },
   "outputs": [],
   "source": [
    "X_test_tit = np.array([\"The US economy is getting better day by day\"], dtype=object)\n",
    "X_test_head = np.array([\"The US economy is getting worse day by day\"], dtype=object)\n",
    "pred_title = pipe1.predict(X_test_tit)\n",
    "pred_headline = pipe2.predict(X_test_head)\n"
   ]
  },
  {
   "cell_type": "code",
   "execution_count": 90,
   "metadata": {
    "colab": {
     "base_uri": "https://localhost:8080/"
    },
    "id": "vrkVdrJP5MDU",
    "outputId": "efd88560-2662-455a-f2db-8660ea7a6bf6"
   },
   "outputs": [
    {
     "name": "stdout",
     "output_type": "stream",
     "text": [
      "Title prediction: 0.0735843177106666\n",
      "Headline prediction: -0.014549726678021376\n"
     ]
    }
   ],
   "source": [
    "print(f\"Title prediction: {pred_title[0, 0]}\")\n",
    "print(f\"Headline prediction: {pred_headline[0, 0]}\")"
   ]
  },
  {
   "cell_type": "code",
   "execution_count": 3,
   "metadata": {},
   "outputs": [
    {
     "data": {
      "application/vnd.jupyter.widget-view+json": {
       "model_id": "4fac49ea21174d5c9721e780471b597b",
       "version_major": 2,
       "version_minor": 0
      },
      "text/plain": [
       "VBox(children=(HTML(value='<center> <img\\nsrc=https://huggingface.co/front/assets/huggingface_logo-noborder.sv…"
      ]
     },
     "metadata": {},
     "output_type": "display_data"
    }
   ],
   "source": [
    "# %pip install transformers\n",
    "# %pip install SentencePiece\n",
    "# %pip install huggingface_hub\n",
    "import huggingface_hub\n",
    "huggingface_hub.login()\n",
    "\n"
   ]
  },
  {
   "cell_type": "code",
   "execution_count": 6,
   "metadata": {},
   "outputs": [
    {
     "data": {
      "application/vnd.jupyter.widget-view+json": {
       "model_id": "aeb1f232022142cf8bbaec5c3b066870",
       "version_major": 2,
       "version_minor": 0
      },
      "text/plain": [
       "config.json:   0%|          | 0.00/1.20k [00:00<?, ?B/s]"
      ]
     },
     "metadata": {},
     "output_type": "display_data"
    },
    {
     "data": {
      "application/vnd.jupyter.widget-view+json": {
       "model_id": "a3a91676193a427f9411131da1902755",
       "version_major": 2,
       "version_minor": 0
      },
      "text/plain": [
       "spiece.model:   0%|          | 0.00/792k [00:00<?, ?B/s]"
      ]
     },
     "metadata": {},
     "output_type": "display_data"
    },
    {
     "data": {
      "application/vnd.jupyter.widget-view+json": {
       "model_id": "cb52abb51abe4559965f1abe58dd47c8",
       "version_major": 2,
       "version_minor": 0
      },
      "text/plain": [
       "tokenizer.json:   0%|          | 0.00/1.39M [00:00<?, ?B/s]"
      ]
     },
     "metadata": {},
     "output_type": "display_data"
    },
    {
     "name": "stderr",
     "output_type": "stream",
     "text": [
      "/opt/anaconda3/lib/python3.11/site-packages/transformers/models/auto/modeling_auto.py:1731: FutureWarning: The class `AutoModelWithLMHead` is deprecated and will be removed in a future version. Please use `AutoModelForCausalLM` for causal language models, `AutoModelForMaskedLM` for masked language models and `AutoModelForSeq2SeqLM` for encoder-decoder models.\n",
      "  warnings.warn(\n",
      "/opt/anaconda3/lib/python3.11/site-packages/huggingface_hub/file_download.py:982: UserWarning: Not enough free disk space to download the file. The expected file size is: 45229.45 MB. The target location /Users/yudhna_/.cache/huggingface/hub/models--google-t5--t5-11b/blobs only has 17513.79 MB free disk space.\n",
      "  warnings.warn(\n"
     ]
    },
    {
     "data": {
      "application/vnd.jupyter.widget-view+json": {
       "model_id": "ab3528b20a104cd69783406b2e3456f6",
       "version_major": 2,
       "version_minor": 0
      },
      "text/plain": [
       "pytorch_model.bin:   0%|          | 0.00/45.2G [00:00<?, ?B/s]"
      ]
     },
     "metadata": {},
     "output_type": "display_data"
    },
    {
     "ename": "KeyboardInterrupt",
     "evalue": "",
     "output_type": "error",
     "traceback": [
      "\u001b[0;31m---------------------------------------------------------------------------\u001b[0m",
      "\u001b[0;31mKeyboardInterrupt\u001b[0m                         Traceback (most recent call last)",
      "Cell \u001b[0;32mIn[6], line 9\u001b[0m\n\u001b[1;32m      6\u001b[0m \u001b[38;5;66;03m# Load the model and tokenizer\u001b[39;00m\n\u001b[1;32m      8\u001b[0m tokenizer \u001b[38;5;241m=\u001b[39m AutoTokenizer\u001b[38;5;241m.\u001b[39mfrom_pretrained(\u001b[38;5;124m\"\u001b[39m\u001b[38;5;124mgoogle-t5/t5-11b\u001b[39m\u001b[38;5;124m\"\u001b[39m)\n\u001b[0;32m----> 9\u001b[0m model \u001b[38;5;241m=\u001b[39m AutoModelWithLMHead\u001b[38;5;241m.\u001b[39mfrom_pretrained(\u001b[38;5;124m\"\u001b[39m\u001b[38;5;124mgoogle-t5/t5-11b\u001b[39m\u001b[38;5;124m\"\u001b[39m)\n\u001b[1;32m     11\u001b[0m \u001b[38;5;66;03m# Define the task and input text\u001b[39;00m\n\u001b[1;32m     12\u001b[0m task_prefix \u001b[38;5;241m=\u001b[39m \u001b[38;5;124m\"\u001b[39m\u001b[38;5;124msummarize: \u001b[39m\u001b[38;5;124m\"\u001b[39m\n",
      "File \u001b[0;32m/opt/anaconda3/lib/python3.11/site-packages/transformers/models/auto/modeling_auto.py:1737\u001b[0m, in \u001b[0;36mAutoModelWithLMHead.from_pretrained\u001b[0;34m(cls, pretrained_model_name_or_path, *model_args, **kwargs)\u001b[0m\n\u001b[1;32m   1729\u001b[0m \u001b[38;5;129m@classmethod\u001b[39m\n\u001b[1;32m   1730\u001b[0m \u001b[38;5;28;01mdef\u001b[39;00m \u001b[38;5;21mfrom_pretrained\u001b[39m(\u001b[38;5;28mcls\u001b[39m, pretrained_model_name_or_path, \u001b[38;5;241m*\u001b[39mmodel_args, \u001b[38;5;241m*\u001b[39m\u001b[38;5;241m*\u001b[39mkwargs):\n\u001b[1;32m   1731\u001b[0m     warnings\u001b[38;5;241m.\u001b[39mwarn(\n\u001b[1;32m   1732\u001b[0m         \u001b[38;5;124m\"\u001b[39m\u001b[38;5;124mThe class `AutoModelWithLMHead` is deprecated and will be removed in a future version. Please use \u001b[39m\u001b[38;5;124m\"\u001b[39m\n\u001b[1;32m   1733\u001b[0m         \u001b[38;5;124m\"\u001b[39m\u001b[38;5;124m`AutoModelForCausalLM` for causal language models, `AutoModelForMaskedLM` for masked language models and \u001b[39m\u001b[38;5;124m\"\u001b[39m\n\u001b[1;32m   1734\u001b[0m         \u001b[38;5;124m\"\u001b[39m\u001b[38;5;124m`AutoModelForSeq2SeqLM` for encoder-decoder models.\u001b[39m\u001b[38;5;124m\"\u001b[39m,\n\u001b[1;32m   1735\u001b[0m         \u001b[38;5;167;01mFutureWarning\u001b[39;00m,\n\u001b[1;32m   1736\u001b[0m     )\n\u001b[0;32m-> 1737\u001b[0m     \u001b[38;5;28;01mreturn\u001b[39;00m \u001b[38;5;28msuper\u001b[39m()\u001b[38;5;241m.\u001b[39mfrom_pretrained(pretrained_model_name_or_path, \u001b[38;5;241m*\u001b[39mmodel_args, \u001b[38;5;241m*\u001b[39m\u001b[38;5;241m*\u001b[39mkwargs)\n",
      "File \u001b[0;32m/opt/anaconda3/lib/python3.11/site-packages/transformers/models/auto/auto_factory.py:564\u001b[0m, in \u001b[0;36m_BaseAutoModelClass.from_pretrained\u001b[0;34m(cls, pretrained_model_name_or_path, *model_args, **kwargs)\u001b[0m\n\u001b[1;32m    562\u001b[0m \u001b[38;5;28;01melif\u001b[39;00m \u001b[38;5;28mtype\u001b[39m(config) \u001b[38;5;129;01min\u001b[39;00m \u001b[38;5;28mcls\u001b[39m\u001b[38;5;241m.\u001b[39m_model_mapping\u001b[38;5;241m.\u001b[39mkeys():\n\u001b[1;32m    563\u001b[0m     model_class \u001b[38;5;241m=\u001b[39m _get_model_class(config, \u001b[38;5;28mcls\u001b[39m\u001b[38;5;241m.\u001b[39m_model_mapping)\n\u001b[0;32m--> 564\u001b[0m     \u001b[38;5;28;01mreturn\u001b[39;00m model_class\u001b[38;5;241m.\u001b[39mfrom_pretrained(\n\u001b[1;32m    565\u001b[0m         pretrained_model_name_or_path, \u001b[38;5;241m*\u001b[39mmodel_args, config\u001b[38;5;241m=\u001b[39mconfig, \u001b[38;5;241m*\u001b[39m\u001b[38;5;241m*\u001b[39mhub_kwargs, \u001b[38;5;241m*\u001b[39m\u001b[38;5;241m*\u001b[39mkwargs\n\u001b[1;32m    566\u001b[0m     )\n\u001b[1;32m    567\u001b[0m \u001b[38;5;28;01mraise\u001b[39;00m \u001b[38;5;167;01mValueError\u001b[39;00m(\n\u001b[1;32m    568\u001b[0m     \u001b[38;5;124mf\u001b[39m\u001b[38;5;124m\"\u001b[39m\u001b[38;5;124mUnrecognized configuration class \u001b[39m\u001b[38;5;132;01m{\u001b[39;00mconfig\u001b[38;5;241m.\u001b[39m\u001b[38;5;18m__class__\u001b[39m\u001b[38;5;132;01m}\u001b[39;00m\u001b[38;5;124m for this kind of AutoModel: \u001b[39m\u001b[38;5;132;01m{\u001b[39;00m\u001b[38;5;28mcls\u001b[39m\u001b[38;5;241m.\u001b[39m\u001b[38;5;18m__name__\u001b[39m\u001b[38;5;132;01m}\u001b[39;00m\u001b[38;5;124m.\u001b[39m\u001b[38;5;130;01m\\n\u001b[39;00m\u001b[38;5;124m\"\u001b[39m\n\u001b[1;32m    569\u001b[0m     \u001b[38;5;124mf\u001b[39m\u001b[38;5;124m\"\u001b[39m\u001b[38;5;124mModel type should be one of \u001b[39m\u001b[38;5;132;01m{\u001b[39;00m\u001b[38;5;124m'\u001b[39m\u001b[38;5;124m, \u001b[39m\u001b[38;5;124m'\u001b[39m\u001b[38;5;241m.\u001b[39mjoin(c\u001b[38;5;241m.\u001b[39m\u001b[38;5;18m__name__\u001b[39m\u001b[38;5;250m \u001b[39m\u001b[38;5;28;01mfor\u001b[39;00m\u001b[38;5;250m \u001b[39mc\u001b[38;5;250m \u001b[39m\u001b[38;5;129;01min\u001b[39;00m\u001b[38;5;250m \u001b[39m\u001b[38;5;28mcls\u001b[39m\u001b[38;5;241m.\u001b[39m_model_mapping\u001b[38;5;241m.\u001b[39mkeys())\u001b[38;5;132;01m}\u001b[39;00m\u001b[38;5;124m.\u001b[39m\u001b[38;5;124m\"\u001b[39m\n\u001b[1;32m    570\u001b[0m )\n",
      "File \u001b[0;32m/opt/anaconda3/lib/python3.11/site-packages/transformers/modeling_utils.py:3457\u001b[0m, in \u001b[0;36mPreTrainedModel.from_pretrained\u001b[0;34m(cls, pretrained_model_name_or_path, config, cache_dir, ignore_mismatched_sizes, force_download, local_files_only, token, revision, use_safetensors, *model_args, **kwargs)\u001b[0m\n\u001b[1;32m   3454\u001b[0m     \u001b[38;5;28;01melse\u001b[39;00m:\n\u001b[1;32m   3455\u001b[0m         \u001b[38;5;66;03m# This repo has no safetensors file of any kind, we switch to PyTorch.\u001b[39;00m\n\u001b[1;32m   3456\u001b[0m         filename \u001b[38;5;241m=\u001b[39m _add_variant(WEIGHTS_NAME, variant)\n\u001b[0;32m-> 3457\u001b[0m         resolved_archive_file \u001b[38;5;241m=\u001b[39m cached_file(\n\u001b[1;32m   3458\u001b[0m             pretrained_model_name_or_path, filename, \u001b[38;5;241m*\u001b[39m\u001b[38;5;241m*\u001b[39mcached_file_kwargs\n\u001b[1;32m   3459\u001b[0m         )\n\u001b[1;32m   3460\u001b[0m \u001b[38;5;28;01mif\u001b[39;00m resolved_archive_file \u001b[38;5;129;01mis\u001b[39;00m \u001b[38;5;28;01mNone\u001b[39;00m \u001b[38;5;129;01mand\u001b[39;00m filename \u001b[38;5;241m==\u001b[39m _add_variant(WEIGHTS_NAME, variant):\n\u001b[1;32m   3461\u001b[0m     \u001b[38;5;66;03m# Maybe the checkpoint is sharded, we try to grab the index name in this case.\u001b[39;00m\n\u001b[1;32m   3462\u001b[0m     resolved_archive_file \u001b[38;5;241m=\u001b[39m cached_file(\n\u001b[1;32m   3463\u001b[0m         pretrained_model_name_or_path,\n\u001b[1;32m   3464\u001b[0m         _add_variant(WEIGHTS_INDEX_NAME, variant),\n\u001b[1;32m   3465\u001b[0m         \u001b[38;5;241m*\u001b[39m\u001b[38;5;241m*\u001b[39mcached_file_kwargs,\n\u001b[1;32m   3466\u001b[0m     )\n",
      "File \u001b[0;32m/opt/anaconda3/lib/python3.11/site-packages/transformers/utils/hub.py:402\u001b[0m, in \u001b[0;36mcached_file\u001b[0;34m(path_or_repo_id, filename, cache_dir, force_download, resume_download, proxies, token, revision, local_files_only, subfolder, repo_type, user_agent, _raise_exceptions_for_gated_repo, _raise_exceptions_for_missing_entries, _raise_exceptions_for_connection_errors, _commit_hash, **deprecated_kwargs)\u001b[0m\n\u001b[1;32m    399\u001b[0m user_agent \u001b[38;5;241m=\u001b[39m http_user_agent(user_agent)\n\u001b[1;32m    400\u001b[0m \u001b[38;5;28;01mtry\u001b[39;00m:\n\u001b[1;32m    401\u001b[0m     \u001b[38;5;66;03m# Load from URL or cache if already cached\u001b[39;00m\n\u001b[0;32m--> 402\u001b[0m     resolved_file \u001b[38;5;241m=\u001b[39m hf_hub_download(\n\u001b[1;32m    403\u001b[0m         path_or_repo_id,\n\u001b[1;32m    404\u001b[0m         filename,\n\u001b[1;32m    405\u001b[0m         subfolder\u001b[38;5;241m=\u001b[39m\u001b[38;5;28;01mNone\u001b[39;00m \u001b[38;5;28;01mif\u001b[39;00m \u001b[38;5;28mlen\u001b[39m(subfolder) \u001b[38;5;241m==\u001b[39m \u001b[38;5;241m0\u001b[39m \u001b[38;5;28;01melse\u001b[39;00m subfolder,\n\u001b[1;32m    406\u001b[0m         repo_type\u001b[38;5;241m=\u001b[39mrepo_type,\n\u001b[1;32m    407\u001b[0m         revision\u001b[38;5;241m=\u001b[39mrevision,\n\u001b[1;32m    408\u001b[0m         cache_dir\u001b[38;5;241m=\u001b[39mcache_dir,\n\u001b[1;32m    409\u001b[0m         user_agent\u001b[38;5;241m=\u001b[39muser_agent,\n\u001b[1;32m    410\u001b[0m         force_download\u001b[38;5;241m=\u001b[39mforce_download,\n\u001b[1;32m    411\u001b[0m         proxies\u001b[38;5;241m=\u001b[39mproxies,\n\u001b[1;32m    412\u001b[0m         resume_download\u001b[38;5;241m=\u001b[39mresume_download,\n\u001b[1;32m    413\u001b[0m         token\u001b[38;5;241m=\u001b[39mtoken,\n\u001b[1;32m    414\u001b[0m         local_files_only\u001b[38;5;241m=\u001b[39mlocal_files_only,\n\u001b[1;32m    415\u001b[0m     )\n\u001b[1;32m    416\u001b[0m \u001b[38;5;28;01mexcept\u001b[39;00m GatedRepoError \u001b[38;5;28;01mas\u001b[39;00m e:\n\u001b[1;32m    417\u001b[0m     resolved_file \u001b[38;5;241m=\u001b[39m _get_cache_file_to_return(path_or_repo_id, full_filename, cache_dir, revision)\n",
      "File \u001b[0;32m/opt/anaconda3/lib/python3.11/site-packages/huggingface_hub/utils/_validators.py:114\u001b[0m, in \u001b[0;36mvalidate_hf_hub_args.<locals>._inner_fn\u001b[0;34m(*args, **kwargs)\u001b[0m\n\u001b[1;32m    111\u001b[0m \u001b[38;5;28;01mif\u001b[39;00m check_use_auth_token:\n\u001b[1;32m    112\u001b[0m     kwargs \u001b[38;5;241m=\u001b[39m smoothly_deprecate_use_auth_token(fn_name\u001b[38;5;241m=\u001b[39mfn\u001b[38;5;241m.\u001b[39m\u001b[38;5;18m__name__\u001b[39m, has_token\u001b[38;5;241m=\u001b[39mhas_token, kwargs\u001b[38;5;241m=\u001b[39mkwargs)\n\u001b[0;32m--> 114\u001b[0m \u001b[38;5;28;01mreturn\u001b[39;00m fn(\u001b[38;5;241m*\u001b[39margs, \u001b[38;5;241m*\u001b[39m\u001b[38;5;241m*\u001b[39mkwargs)\n",
      "File \u001b[0;32m/opt/anaconda3/lib/python3.11/site-packages/huggingface_hub/file_download.py:1221\u001b[0m, in \u001b[0;36mhf_hub_download\u001b[0;34m(repo_id, filename, subfolder, repo_type, revision, library_name, library_version, cache_dir, local_dir, user_agent, force_download, proxies, etag_timeout, token, local_files_only, headers, endpoint, legacy_cache_layout, resume_download, force_filename, local_dir_use_symlinks)\u001b[0m\n\u001b[1;32m   1202\u001b[0m     \u001b[38;5;28;01mreturn\u001b[39;00m _hf_hub_download_to_local_dir(\n\u001b[1;32m   1203\u001b[0m         \u001b[38;5;66;03m# Destination\u001b[39;00m\n\u001b[1;32m   1204\u001b[0m         local_dir\u001b[38;5;241m=\u001b[39mlocal_dir,\n\u001b[0;32m   (...)\u001b[0m\n\u001b[1;32m   1218\u001b[0m         local_files_only\u001b[38;5;241m=\u001b[39mlocal_files_only,\n\u001b[1;32m   1219\u001b[0m     )\n\u001b[1;32m   1220\u001b[0m \u001b[38;5;28;01melse\u001b[39;00m:\n\u001b[0;32m-> 1221\u001b[0m     \u001b[38;5;28;01mreturn\u001b[39;00m _hf_hub_download_to_cache_dir(\n\u001b[1;32m   1222\u001b[0m         \u001b[38;5;66;03m# Destination\u001b[39;00m\n\u001b[1;32m   1223\u001b[0m         cache_dir\u001b[38;5;241m=\u001b[39mcache_dir,\n\u001b[1;32m   1224\u001b[0m         \u001b[38;5;66;03m# File info\u001b[39;00m\n\u001b[1;32m   1225\u001b[0m         repo_id\u001b[38;5;241m=\u001b[39mrepo_id,\n\u001b[1;32m   1226\u001b[0m         filename\u001b[38;5;241m=\u001b[39mfilename,\n\u001b[1;32m   1227\u001b[0m         repo_type\u001b[38;5;241m=\u001b[39mrepo_type,\n\u001b[1;32m   1228\u001b[0m         revision\u001b[38;5;241m=\u001b[39mrevision,\n\u001b[1;32m   1229\u001b[0m         \u001b[38;5;66;03m# HTTP info\u001b[39;00m\n\u001b[1;32m   1230\u001b[0m         headers\u001b[38;5;241m=\u001b[39mheaders,\n\u001b[1;32m   1231\u001b[0m         proxies\u001b[38;5;241m=\u001b[39mproxies,\n\u001b[1;32m   1232\u001b[0m         etag_timeout\u001b[38;5;241m=\u001b[39metag_timeout,\n\u001b[1;32m   1233\u001b[0m         endpoint\u001b[38;5;241m=\u001b[39mendpoint,\n\u001b[1;32m   1234\u001b[0m         \u001b[38;5;66;03m# Additional options\u001b[39;00m\n\u001b[1;32m   1235\u001b[0m         local_files_only\u001b[38;5;241m=\u001b[39mlocal_files_only,\n\u001b[1;32m   1236\u001b[0m         force_download\u001b[38;5;241m=\u001b[39mforce_download,\n\u001b[1;32m   1237\u001b[0m     )\n",
      "File \u001b[0;32m/opt/anaconda3/lib/python3.11/site-packages/huggingface_hub/file_download.py:1367\u001b[0m, in \u001b[0;36m_hf_hub_download_to_cache_dir\u001b[0;34m(cache_dir, repo_id, filename, repo_type, revision, headers, proxies, etag_timeout, endpoint, local_files_only, force_download)\u001b[0m\n\u001b[1;32m   1365\u001b[0m Path(lock_path)\u001b[38;5;241m.\u001b[39mparent\u001b[38;5;241m.\u001b[39mmkdir(parents\u001b[38;5;241m=\u001b[39m\u001b[38;5;28;01mTrue\u001b[39;00m, exist_ok\u001b[38;5;241m=\u001b[39m\u001b[38;5;28;01mTrue\u001b[39;00m)\n\u001b[1;32m   1366\u001b[0m \u001b[38;5;28;01mwith\u001b[39;00m WeakFileLock(lock_path):\n\u001b[0;32m-> 1367\u001b[0m     _download_to_tmp_and_move(\n\u001b[1;32m   1368\u001b[0m         incomplete_path\u001b[38;5;241m=\u001b[39mPath(blob_path \u001b[38;5;241m+\u001b[39m \u001b[38;5;124m\"\u001b[39m\u001b[38;5;124m.incomplete\u001b[39m\u001b[38;5;124m\"\u001b[39m),\n\u001b[1;32m   1369\u001b[0m         destination_path\u001b[38;5;241m=\u001b[39mPath(blob_path),\n\u001b[1;32m   1370\u001b[0m         url_to_download\u001b[38;5;241m=\u001b[39murl_to_download,\n\u001b[1;32m   1371\u001b[0m         proxies\u001b[38;5;241m=\u001b[39mproxies,\n\u001b[1;32m   1372\u001b[0m         headers\u001b[38;5;241m=\u001b[39mheaders,\n\u001b[1;32m   1373\u001b[0m         expected_size\u001b[38;5;241m=\u001b[39mexpected_size,\n\u001b[1;32m   1374\u001b[0m         filename\u001b[38;5;241m=\u001b[39mfilename,\n\u001b[1;32m   1375\u001b[0m         force_download\u001b[38;5;241m=\u001b[39mforce_download,\n\u001b[1;32m   1376\u001b[0m     )\n\u001b[1;32m   1377\u001b[0m     _create_symlink(blob_path, pointer_path, new_blob\u001b[38;5;241m=\u001b[39m\u001b[38;5;28;01mTrue\u001b[39;00m)\n\u001b[1;32m   1379\u001b[0m \u001b[38;5;28;01mreturn\u001b[39;00m pointer_path\n",
      "File \u001b[0;32m/opt/anaconda3/lib/python3.11/site-packages/huggingface_hub/file_download.py:1884\u001b[0m, in \u001b[0;36m_download_to_tmp_and_move\u001b[0;34m(incomplete_path, destination_path, url_to_download, proxies, headers, expected_size, filename, force_download)\u001b[0m\n\u001b[1;32m   1881\u001b[0m         _check_disk_space(expected_size, incomplete_path\u001b[38;5;241m.\u001b[39mparent)\n\u001b[1;32m   1882\u001b[0m         _check_disk_space(expected_size, destination_path\u001b[38;5;241m.\u001b[39mparent)\n\u001b[0;32m-> 1884\u001b[0m     http_get(\n\u001b[1;32m   1885\u001b[0m         url_to_download,\n\u001b[1;32m   1886\u001b[0m         f,\n\u001b[1;32m   1887\u001b[0m         proxies\u001b[38;5;241m=\u001b[39mproxies,\n\u001b[1;32m   1888\u001b[0m         resume_size\u001b[38;5;241m=\u001b[39mresume_size,\n\u001b[1;32m   1889\u001b[0m         headers\u001b[38;5;241m=\u001b[39mheaders,\n\u001b[1;32m   1890\u001b[0m         expected_size\u001b[38;5;241m=\u001b[39mexpected_size,\n\u001b[1;32m   1891\u001b[0m     )\n\u001b[1;32m   1893\u001b[0m logger\u001b[38;5;241m.\u001b[39minfo(\u001b[38;5;124mf\u001b[39m\u001b[38;5;124m\"\u001b[39m\u001b[38;5;124mDownload complete. Moving file to \u001b[39m\u001b[38;5;132;01m{\u001b[39;00mdestination_path\u001b[38;5;132;01m}\u001b[39;00m\u001b[38;5;124m\"\u001b[39m)\n\u001b[1;32m   1894\u001b[0m _chmod_and_move(incomplete_path, destination_path)\n",
      "File \u001b[0;32m/opt/anaconda3/lib/python3.11/site-packages/huggingface_hub/file_download.py:539\u001b[0m, in \u001b[0;36mhttp_get\u001b[0;34m(url, temp_file, proxies, resume_size, headers, expected_size, displayed_filename, _nb_retries, _tqdm_bar)\u001b[0m\n\u001b[1;32m    537\u001b[0m new_resume_size \u001b[38;5;241m=\u001b[39m resume_size\n\u001b[1;32m    538\u001b[0m \u001b[38;5;28;01mtry\u001b[39;00m:\n\u001b[0;32m--> 539\u001b[0m     \u001b[38;5;28;01mfor\u001b[39;00m chunk \u001b[38;5;129;01min\u001b[39;00m r\u001b[38;5;241m.\u001b[39miter_content(chunk_size\u001b[38;5;241m=\u001b[39mDOWNLOAD_CHUNK_SIZE):\n\u001b[1;32m    540\u001b[0m         \u001b[38;5;28;01mif\u001b[39;00m chunk:  \u001b[38;5;66;03m# filter out keep-alive new chunks\u001b[39;00m\n\u001b[1;32m    541\u001b[0m             progress\u001b[38;5;241m.\u001b[39mupdate(\u001b[38;5;28mlen\u001b[39m(chunk))\n",
      "File \u001b[0;32m/opt/anaconda3/lib/python3.11/site-packages/requests/models.py:816\u001b[0m, in \u001b[0;36mResponse.iter_content.<locals>.generate\u001b[0;34m()\u001b[0m\n\u001b[1;32m    814\u001b[0m \u001b[38;5;28;01mif\u001b[39;00m \u001b[38;5;28mhasattr\u001b[39m(\u001b[38;5;28mself\u001b[39m\u001b[38;5;241m.\u001b[39mraw, \u001b[38;5;124m\"\u001b[39m\u001b[38;5;124mstream\u001b[39m\u001b[38;5;124m\"\u001b[39m):\n\u001b[1;32m    815\u001b[0m     \u001b[38;5;28;01mtry\u001b[39;00m:\n\u001b[0;32m--> 816\u001b[0m         \u001b[38;5;28;01myield from\u001b[39;00m \u001b[38;5;28mself\u001b[39m\u001b[38;5;241m.\u001b[39mraw\u001b[38;5;241m.\u001b[39mstream(chunk_size, decode_content\u001b[38;5;241m=\u001b[39m\u001b[38;5;28;01mTrue\u001b[39;00m)\n\u001b[1;32m    817\u001b[0m     \u001b[38;5;28;01mexcept\u001b[39;00m ProtocolError \u001b[38;5;28;01mas\u001b[39;00m e:\n\u001b[1;32m    818\u001b[0m         \u001b[38;5;28;01mraise\u001b[39;00m ChunkedEncodingError(e)\n",
      "File \u001b[0;32m/opt/anaconda3/lib/python3.11/site-packages/urllib3/response.py:936\u001b[0m, in \u001b[0;36mHTTPResponse.stream\u001b[0;34m(self, amt, decode_content)\u001b[0m\n\u001b[1;32m    934\u001b[0m \u001b[38;5;28;01melse\u001b[39;00m:\n\u001b[1;32m    935\u001b[0m     \u001b[38;5;28;01mwhile\u001b[39;00m \u001b[38;5;129;01mnot\u001b[39;00m is_fp_closed(\u001b[38;5;28mself\u001b[39m\u001b[38;5;241m.\u001b[39m_fp) \u001b[38;5;129;01mor\u001b[39;00m \u001b[38;5;28mlen\u001b[39m(\u001b[38;5;28mself\u001b[39m\u001b[38;5;241m.\u001b[39m_decoded_buffer) \u001b[38;5;241m>\u001b[39m \u001b[38;5;241m0\u001b[39m:\n\u001b[0;32m--> 936\u001b[0m         data \u001b[38;5;241m=\u001b[39m \u001b[38;5;28mself\u001b[39m\u001b[38;5;241m.\u001b[39mread(amt\u001b[38;5;241m=\u001b[39mamt, decode_content\u001b[38;5;241m=\u001b[39mdecode_content)\n\u001b[1;32m    938\u001b[0m         \u001b[38;5;28;01mif\u001b[39;00m data:\n\u001b[1;32m    939\u001b[0m             \u001b[38;5;28;01myield\u001b[39;00m data\n",
      "File \u001b[0;32m/opt/anaconda3/lib/python3.11/site-packages/urllib3/response.py:879\u001b[0m, in \u001b[0;36mHTTPResponse.read\u001b[0;34m(self, amt, decode_content, cache_content)\u001b[0m\n\u001b[1;32m    876\u001b[0m     \u001b[38;5;28;01mif\u001b[39;00m \u001b[38;5;28mlen\u001b[39m(\u001b[38;5;28mself\u001b[39m\u001b[38;5;241m.\u001b[39m_decoded_buffer) \u001b[38;5;241m>\u001b[39m\u001b[38;5;241m=\u001b[39m amt:\n\u001b[1;32m    877\u001b[0m         \u001b[38;5;28;01mreturn\u001b[39;00m \u001b[38;5;28mself\u001b[39m\u001b[38;5;241m.\u001b[39m_decoded_buffer\u001b[38;5;241m.\u001b[39mget(amt)\n\u001b[0;32m--> 879\u001b[0m data \u001b[38;5;241m=\u001b[39m \u001b[38;5;28mself\u001b[39m\u001b[38;5;241m.\u001b[39m_raw_read(amt)\n\u001b[1;32m    881\u001b[0m flush_decoder \u001b[38;5;241m=\u001b[39m amt \u001b[38;5;129;01mis\u001b[39;00m \u001b[38;5;28;01mNone\u001b[39;00m \u001b[38;5;129;01mor\u001b[39;00m (amt \u001b[38;5;241m!=\u001b[39m \u001b[38;5;241m0\u001b[39m \u001b[38;5;129;01mand\u001b[39;00m \u001b[38;5;129;01mnot\u001b[39;00m data)\n\u001b[1;32m    883\u001b[0m \u001b[38;5;28;01mif\u001b[39;00m \u001b[38;5;129;01mnot\u001b[39;00m data \u001b[38;5;129;01mand\u001b[39;00m \u001b[38;5;28mlen\u001b[39m(\u001b[38;5;28mself\u001b[39m\u001b[38;5;241m.\u001b[39m_decoded_buffer) \u001b[38;5;241m==\u001b[39m \u001b[38;5;241m0\u001b[39m:\n",
      "File \u001b[0;32m/opt/anaconda3/lib/python3.11/site-packages/urllib3/response.py:814\u001b[0m, in \u001b[0;36mHTTPResponse._raw_read\u001b[0;34m(self, amt)\u001b[0m\n\u001b[1;32m    811\u001b[0m fp_closed \u001b[38;5;241m=\u001b[39m \u001b[38;5;28mgetattr\u001b[39m(\u001b[38;5;28mself\u001b[39m\u001b[38;5;241m.\u001b[39m_fp, \u001b[38;5;124m\"\u001b[39m\u001b[38;5;124mclosed\u001b[39m\u001b[38;5;124m\"\u001b[39m, \u001b[38;5;28;01mFalse\u001b[39;00m)\n\u001b[1;32m    813\u001b[0m \u001b[38;5;28;01mwith\u001b[39;00m \u001b[38;5;28mself\u001b[39m\u001b[38;5;241m.\u001b[39m_error_catcher():\n\u001b[0;32m--> 814\u001b[0m     data \u001b[38;5;241m=\u001b[39m \u001b[38;5;28mself\u001b[39m\u001b[38;5;241m.\u001b[39m_fp_read(amt) \u001b[38;5;28;01mif\u001b[39;00m \u001b[38;5;129;01mnot\u001b[39;00m fp_closed \u001b[38;5;28;01melse\u001b[39;00m \u001b[38;5;124mb\u001b[39m\u001b[38;5;124m\"\u001b[39m\u001b[38;5;124m\"\u001b[39m\n\u001b[1;32m    815\u001b[0m     \u001b[38;5;28;01mif\u001b[39;00m amt \u001b[38;5;129;01mis\u001b[39;00m \u001b[38;5;129;01mnot\u001b[39;00m \u001b[38;5;28;01mNone\u001b[39;00m \u001b[38;5;129;01mand\u001b[39;00m amt \u001b[38;5;241m!=\u001b[39m \u001b[38;5;241m0\u001b[39m \u001b[38;5;129;01mand\u001b[39;00m \u001b[38;5;129;01mnot\u001b[39;00m data:\n\u001b[1;32m    816\u001b[0m         \u001b[38;5;66;03m# Platform-specific: Buggy versions of Python.\u001b[39;00m\n\u001b[1;32m    817\u001b[0m         \u001b[38;5;66;03m# Close the connection when no data is returned\u001b[39;00m\n\u001b[0;32m   (...)\u001b[0m\n\u001b[1;32m    822\u001b[0m         \u001b[38;5;66;03m# not properly close the connection in all cases. There is\u001b[39;00m\n\u001b[1;32m    823\u001b[0m         \u001b[38;5;66;03m# no harm in redundantly calling close.\u001b[39;00m\n\u001b[1;32m    824\u001b[0m         \u001b[38;5;28mself\u001b[39m\u001b[38;5;241m.\u001b[39m_fp\u001b[38;5;241m.\u001b[39mclose()\n",
      "File \u001b[0;32m/opt/anaconda3/lib/python3.11/site-packages/urllib3/response.py:799\u001b[0m, in \u001b[0;36mHTTPResponse._fp_read\u001b[0;34m(self, amt)\u001b[0m\n\u001b[1;32m    796\u001b[0m     \u001b[38;5;28;01mreturn\u001b[39;00m buffer\u001b[38;5;241m.\u001b[39mgetvalue()\n\u001b[1;32m    797\u001b[0m \u001b[38;5;28;01melse\u001b[39;00m:\n\u001b[1;32m    798\u001b[0m     \u001b[38;5;66;03m# StringIO doesn't like amt=None\u001b[39;00m\n\u001b[0;32m--> 799\u001b[0m     \u001b[38;5;28;01mreturn\u001b[39;00m \u001b[38;5;28mself\u001b[39m\u001b[38;5;241m.\u001b[39m_fp\u001b[38;5;241m.\u001b[39mread(amt) \u001b[38;5;28;01mif\u001b[39;00m amt \u001b[38;5;129;01mis\u001b[39;00m \u001b[38;5;129;01mnot\u001b[39;00m \u001b[38;5;28;01mNone\u001b[39;00m \u001b[38;5;28;01melse\u001b[39;00m \u001b[38;5;28mself\u001b[39m\u001b[38;5;241m.\u001b[39m_fp\u001b[38;5;241m.\u001b[39mread()\n",
      "File \u001b[0;32m/opt/anaconda3/lib/python3.11/http/client.py:473\u001b[0m, in \u001b[0;36mHTTPResponse.read\u001b[0;34m(self, amt)\u001b[0m\n\u001b[1;32m    470\u001b[0m \u001b[38;5;28;01mif\u001b[39;00m \u001b[38;5;28mself\u001b[39m\u001b[38;5;241m.\u001b[39mlength \u001b[38;5;129;01mis\u001b[39;00m \u001b[38;5;129;01mnot\u001b[39;00m \u001b[38;5;28;01mNone\u001b[39;00m \u001b[38;5;129;01mand\u001b[39;00m amt \u001b[38;5;241m>\u001b[39m \u001b[38;5;28mself\u001b[39m\u001b[38;5;241m.\u001b[39mlength:\n\u001b[1;32m    471\u001b[0m     \u001b[38;5;66;03m# clip the read to the \"end of response\"\u001b[39;00m\n\u001b[1;32m    472\u001b[0m     amt \u001b[38;5;241m=\u001b[39m \u001b[38;5;28mself\u001b[39m\u001b[38;5;241m.\u001b[39mlength\n\u001b[0;32m--> 473\u001b[0m s \u001b[38;5;241m=\u001b[39m \u001b[38;5;28mself\u001b[39m\u001b[38;5;241m.\u001b[39mfp\u001b[38;5;241m.\u001b[39mread(amt)\n\u001b[1;32m    474\u001b[0m \u001b[38;5;28;01mif\u001b[39;00m \u001b[38;5;129;01mnot\u001b[39;00m s \u001b[38;5;129;01mand\u001b[39;00m amt:\n\u001b[1;32m    475\u001b[0m     \u001b[38;5;66;03m# Ideally, we would raise IncompleteRead if the content-length\u001b[39;00m\n\u001b[1;32m    476\u001b[0m     \u001b[38;5;66;03m# wasn't satisfied, but it might break compatibility.\u001b[39;00m\n\u001b[1;32m    477\u001b[0m     \u001b[38;5;28mself\u001b[39m\u001b[38;5;241m.\u001b[39m_close_conn()\n",
      "File \u001b[0;32m/opt/anaconda3/lib/python3.11/socket.py:706\u001b[0m, in \u001b[0;36mSocketIO.readinto\u001b[0;34m(self, b)\u001b[0m\n\u001b[1;32m    704\u001b[0m \u001b[38;5;28;01mwhile\u001b[39;00m \u001b[38;5;28;01mTrue\u001b[39;00m:\n\u001b[1;32m    705\u001b[0m     \u001b[38;5;28;01mtry\u001b[39;00m:\n\u001b[0;32m--> 706\u001b[0m         \u001b[38;5;28;01mreturn\u001b[39;00m \u001b[38;5;28mself\u001b[39m\u001b[38;5;241m.\u001b[39m_sock\u001b[38;5;241m.\u001b[39mrecv_into(b)\n\u001b[1;32m    707\u001b[0m     \u001b[38;5;28;01mexcept\u001b[39;00m timeout:\n\u001b[1;32m    708\u001b[0m         \u001b[38;5;28mself\u001b[39m\u001b[38;5;241m.\u001b[39m_timeout_occurred \u001b[38;5;241m=\u001b[39m \u001b[38;5;28;01mTrue\u001b[39;00m\n",
      "File \u001b[0;32m/opt/anaconda3/lib/python3.11/ssl.py:1315\u001b[0m, in \u001b[0;36mSSLSocket.recv_into\u001b[0;34m(self, buffer, nbytes, flags)\u001b[0m\n\u001b[1;32m   1311\u001b[0m     \u001b[38;5;28;01mif\u001b[39;00m flags \u001b[38;5;241m!=\u001b[39m \u001b[38;5;241m0\u001b[39m:\n\u001b[1;32m   1312\u001b[0m         \u001b[38;5;28;01mraise\u001b[39;00m \u001b[38;5;167;01mValueError\u001b[39;00m(\n\u001b[1;32m   1313\u001b[0m           \u001b[38;5;124m\"\u001b[39m\u001b[38;5;124mnon-zero flags not allowed in calls to recv_into() on \u001b[39m\u001b[38;5;132;01m%s\u001b[39;00m\u001b[38;5;124m\"\u001b[39m \u001b[38;5;241m%\u001b[39m\n\u001b[1;32m   1314\u001b[0m           \u001b[38;5;28mself\u001b[39m\u001b[38;5;241m.\u001b[39m\u001b[38;5;18m__class__\u001b[39m)\n\u001b[0;32m-> 1315\u001b[0m     \u001b[38;5;28;01mreturn\u001b[39;00m \u001b[38;5;28mself\u001b[39m\u001b[38;5;241m.\u001b[39mread(nbytes, buffer)\n\u001b[1;32m   1316\u001b[0m \u001b[38;5;28;01melse\u001b[39;00m:\n\u001b[1;32m   1317\u001b[0m     \u001b[38;5;28;01mreturn\u001b[39;00m \u001b[38;5;28msuper\u001b[39m()\u001b[38;5;241m.\u001b[39mrecv_into(buffer, nbytes, flags)\n",
      "File \u001b[0;32m/opt/anaconda3/lib/python3.11/ssl.py:1167\u001b[0m, in \u001b[0;36mSSLSocket.read\u001b[0;34m(self, len, buffer)\u001b[0m\n\u001b[1;32m   1165\u001b[0m \u001b[38;5;28;01mtry\u001b[39;00m:\n\u001b[1;32m   1166\u001b[0m     \u001b[38;5;28;01mif\u001b[39;00m buffer \u001b[38;5;129;01mis\u001b[39;00m \u001b[38;5;129;01mnot\u001b[39;00m \u001b[38;5;28;01mNone\u001b[39;00m:\n\u001b[0;32m-> 1167\u001b[0m         \u001b[38;5;28;01mreturn\u001b[39;00m \u001b[38;5;28mself\u001b[39m\u001b[38;5;241m.\u001b[39m_sslobj\u001b[38;5;241m.\u001b[39mread(\u001b[38;5;28mlen\u001b[39m, buffer)\n\u001b[1;32m   1168\u001b[0m     \u001b[38;5;28;01melse\u001b[39;00m:\n\u001b[1;32m   1169\u001b[0m         \u001b[38;5;28;01mreturn\u001b[39;00m \u001b[38;5;28mself\u001b[39m\u001b[38;5;241m.\u001b[39m_sslobj\u001b[38;5;241m.\u001b[39mread(\u001b[38;5;28mlen\u001b[39m)\n",
      "\u001b[0;31mKeyboardInterrupt\u001b[0m: "
     ]
    }
   ],
   "source": [
    "# Load model directly\n",
    "from transformers import AutoTokenizer, AutoModelWithLMHead\n",
    "\n",
    "# Load the model and tokenizer\n",
    "\n",
    "tokenizer = AutoTokenizer.from_pretrained(\"google-t5/t5-11b\")\n",
    "model = AutoModelWithLMHead.from_pretrained(\"google-t5/t5-11b\")\n",
    "\n",
    "# Define the task and input text\n",
    "task_prefix = \"summarize: \"\n",
    "input_text = \"This is a simple example of text that we want to summarize.\"\n",
    "\n",
    "# Encode the input text\n",
    "input_ids = tokenizer(task_prefix + input_text, return_tensors=\"pt\").input_ids\n",
    "\n",
    "# Generate the output\n",
    "output_ids = model.generate(input_ids)\n",
    "\n",
    "# Decode the output text\n",
    "output_text = tokenizer.decode(output_ids[0], skip_special_tokens=True)\n",
    "\n",
    "print(\"Input text:\", input_text)\n",
    "print(\"Output text:\", output_text)\n"
   ]
  },
  {
   "cell_type": "code",
   "execution_count": null,
   "metadata": {},
   "outputs": [],
   "source": []
  },
  {
   "cell_type": "code",
   "execution_count": null,
   "metadata": {},
   "outputs": [],
   "source": []
  },
  {
   "cell_type": "code",
   "execution_count": null,
   "metadata": {},
   "outputs": [],
   "source": []
  }
 ],
 "metadata": {
  "colab": {
   "machine_shape": "hm",
   "provenance": []
  },
  "kernelspec": {
   "display_name": "Python 3 (ipykernel)",
   "language": "python",
   "name": "python3"
  },
  "language_info": {
   "codemirror_mode": {
    "name": "ipython",
    "version": 3
   },
   "file_extension": ".py",
   "mimetype": "text/x-python",
   "name": "python",
   "nbconvert_exporter": "python",
   "pygments_lexer": "ipython3",
   "version": "3.11.7"
  }
 },
 "nbformat": 4,
 "nbformat_minor": 4
}
